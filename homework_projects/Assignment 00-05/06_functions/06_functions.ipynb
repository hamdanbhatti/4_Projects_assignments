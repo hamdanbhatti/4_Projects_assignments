{
  "nbformat": 4,
  "nbformat_minor": 0,
  "metadata": {
    "colab": {
      "provenance": []
    },
    "kernelspec": {
      "name": "python3",
      "display_name": "Python 3"
    },
    "language_info": {
      "name": "python"
    }
  },
  "cells": [
    {
      "cell_type": "markdown",
      "source": [
        "***00_averages***\n",
        "\n",
        "Write a function that takes two numbers and finds the average between the two.\n",
        "\n"
      ],
      "metadata": {
        "id": "miTnrMhidtE4"
      }
    },
    {
      "cell_type": "code",
      "execution_count": null,
      "metadata": {
        "colab": {
          "base_uri": "https://localhost:8080/"
        },
        "id": "cZLfA9QQdrI6",
        "outputId": "843ea6e9-72f6-4c38-d1be-a9a0c668d5d8"
      },
      "outputs": [
        {
          "output_type": "stream",
          "name": "stdout",
          "text": [
            "Enter the first number: 2\n",
            "Enter the second number: 4\n",
            "The average is: 3.0\n"
          ]
        }
      ],
      "source": [
        "def find_average(num1, num2):\n",
        "    return (num1 + num2) / 2\n",
        "\n",
        "def main():\n",
        "\n",
        "    num1 = float(input(\"Enter the first number: \"))\n",
        "    num2 = float(input(\"Enter the second number: \"))\n",
        "\n",
        "    avg = find_average(num1, num2)\n",
        "\n",
        "    print(\"The average is:\", avg)\n",
        "\n",
        "if __name__ == '__main__':\n",
        "    main()\n"
      ]
    },
    {
      "cell_type": "markdown",
      "source": [
        "***01_chaotic_counting***\n",
        "\n",
        "Fill out the chaotic_counting() function, which prints the numbers from 1 to 10, but with a catch. We've written a done() function which returns True with likelihood DONE_LIKELIHOOD -- at each number, before printing the number, you should call done() and check if it returns True or not. If done() returns True, we're done counting, and you should use a return statement to end the chaotic_counting() function execution and resume execution of main(), which will print \"I'm done.\". We've written main() for you -- check it out! Notice that we'll only print \"I'm done\" from main() once chaotic_counting() is done with its execution."
      ],
      "metadata": {
        "id": "HlX9B7xPelNG"
      }
    },
    {
      "cell_type": "code",
      "source": [
        "import random\n",
        "\n",
        "# Define the probability of stopping\n",
        "DONE_LIKELIHOOD = 0.3\n",
        "\n",
        "def chaotic_counting():\n",
        "    for i in range(10):\n",
        "        curr_num = i + 1\n",
        "        if done():\n",
        "            return\n",
        "        print(curr_num)\n",
        "\n",
        "\n",
        "def done():\n",
        "    \"\"\" Returns True with a probability of DONE_LIKELIHOOD \"\"\"\n",
        "    if random.random() < DONE_LIKELIHOOD:\n",
        "        return True\n",
        "    return False\n",
        "\n",
        "def main():\n",
        "    print(\"I'm going to count until 10 or until I feel like stopping, whichever comes first.\")\n",
        "    chaotic_counting()\n",
        "    print(\"I'm done\")\n",
        "\n",
        "if __name__ == \"__main__\":\n",
        "    main()\n"
      ],
      "metadata": {
        "colab": {
          "base_uri": "https://localhost:8080/"
        },
        "id": "eOrZi3Y3e60k",
        "outputId": "22c438a8-dd43-42cd-8258-b05e13d8cc42"
      },
      "execution_count": null,
      "outputs": [
        {
          "output_type": "stream",
          "name": "stdout",
          "text": [
            "I'm going to count until 10 or until I feel like stopping, whichever comes first.\n",
            "1\n",
            "2\n",
            "3\n",
            "4\n",
            "5\n",
            "6\n",
            "7\n",
            "8\n",
            "9\n",
            "10\n",
            "I'm done\n"
          ]
        }
      ]
    },
    {
      "cell_type": "markdown",
      "source": [
        "***02_count_even***\n",
        "\n",
        "Fill out the function count_even(lst) which\n",
        "\n",
        "first populates a list by prompting the user for integers until they press enter (please use the prompt \"Enter an integer or press enter to stop: \"),\n",
        "\n",
        "and then prints the number of even numbers in the list."
      ],
      "metadata": {
        "id": "cVQ9fGleiRBw"
      }
    },
    {
      "cell_type": "code",
      "source": [
        "def count_even(lst):\n",
        "    \"\"\"\n",
        "    Prints the count of even numbers in the given list lst.\n",
        "    \"\"\"\n",
        "    even_count = 0\n",
        "    for num in lst:\n",
        "        if num % 2 == 0:\n",
        "            even_count += 1\n",
        "    print(f\"Number of even numbers: {even_count}\")\n",
        "\n",
        "def main():\n",
        "\n",
        "    lst = []\n",
        "    while True:\n",
        "        user_input = input(\"Enter an integer or press enter to stop: \")\n",
        "        if user_input == \"\":\n",
        "            break\n",
        "        try:\n",
        "            # Convert the input to an integer and add it to the list\n",
        "            num = int(user_input)\n",
        "            lst.append(num)\n",
        "        except ValueError:\n",
        "            print(\"Invalid input. Please enter an integer.\")\n",
        "\n",
        "\n",
        "    count_even(lst)\n",
        "\n",
        "if __name__ == \"__main__\":\n",
        "    main()\n"
      ],
      "metadata": {
        "id": "gs3ISlZnjHiC",
        "outputId": "8eaef76b-cddb-4984-e50e-3613efa5d006",
        "colab": {
          "base_uri": "https://localhost:8080/"
        }
      },
      "execution_count": null,
      "outputs": [
        {
          "output_type": "stream",
          "name": "stdout",
          "text": [
            "Enter an integer or press enter to stop: 2\n",
            "Enter an integer or press enter to stop: 4\n",
            "Enter an integer or press enter to stop: 6\n",
            "Enter an integer or press enter to stop: 7\n",
            "Enter an integer or press enter to stop: 9\n",
            "Enter an integer or press enter to stop: \n",
            "Number of even numbers: 3\n"
          ]
        }
      ]
    },
    {
      "cell_type": "markdown",
      "source": [
        "***04_double***\n",
        "\n",
        "Fill out the double(num) function to return the result of multiplying num by 2. We've written a main() function for you which asks the user for a number, calls your code for double(num) , and prints the result."
      ],
      "metadata": {
        "id": "PsI808OTeqR5"
      }
    },
    {
      "cell_type": "code",
      "source": [
        "def double(num):\n",
        "    return num * 2\n",
        "\n",
        "def main():\n",
        "    user_input = input(\"Enter a number to double: \")\n",
        "    try:\n",
        "        num = float(user_input)\n",
        "        result = double(num)\n",
        "        print(f\"The doubled number is: {result}\")\n",
        "    except ValueError:\n",
        "        print(\"Please enter a valid number.\")\n",
        "\n",
        "if __name__ == \"__main__\":\n",
        "    main()\n"
      ],
      "metadata": {
        "colab": {
          "base_uri": "https://localhost:8080/"
        },
        "id": "7nB5rL8qewC2",
        "outputId": "c6ef93f8-8dce-4c01-9c09-939460761844"
      },
      "execution_count": null,
      "outputs": [
        {
          "output_type": "stream",
          "name": "stdout",
          "text": [
            "Enter a number to double: 5\n",
            "The doubled number is: 10.0\n"
          ]
        }
      ]
    },
    {
      "cell_type": "markdown",
      "source": [
        "***05_get_name***\n",
        "\n",
        "Fill out the get_name() function to return your name as a string! We've written a main() function for you which calls your function to retrieve your name and then prints it in a greeting.\n",
        "\n"
      ],
      "metadata": {
        "id": "kwlkrNAbgjAY"
      }
    },
    {
      "cell_type": "code",
      "source": [
        "def get_name():\n",
        "    return \"Hamdan\"\n",
        "\n",
        "def main():\n",
        "    name = get_name()\n",
        "    print(f\"Hello, {name}!\")\n",
        "\n",
        "if __name__ == \"__main__\":\n",
        "    main()\n"
      ],
      "metadata": {
        "colab": {
          "base_uri": "https://localhost:8080/"
        },
        "id": "NYIM-7oEg5BK",
        "outputId": "a6e39d3c-d9d7-4d00-b1e4-5eb7a82a3e05"
      },
      "execution_count": null,
      "outputs": [
        {
          "output_type": "stream",
          "name": "stdout",
          "text": [
            "Hello, Hamdan!\n"
          ]
        }
      ]
    },
    {
      "cell_type": "markdown",
      "source": [
        "***06_is_odd***\n",
        "\n",
        "10 even 11 odd 12 even 13 odd 14 even 15 odd 16 even 17 odd 18 even 19 odd\n",
        "\n"
      ],
      "metadata": {
        "id": "DbGlmC2Gg_4Y"
      }
    },
    {
      "cell_type": "code",
      "source": [
        "def main():\n",
        "    for num in range(1, 20):\n",
        "        if num % 2 == 0:\n",
        "            print(f\"{num} even\", end=\" \")\n",
        "        else:\n",
        "            print(f\"{num} odd\", end=\" \")\n",
        "\n",
        "if __name__ == \"__main__\":\n",
        "    main()\n"
      ],
      "metadata": {
        "colab": {
          "base_uri": "https://localhost:8080/"
        },
        "id": "_qqwT3YThK2C",
        "outputId": "d235e9ec-ffdb-4950-85bd-9d12f601731e"
      },
      "execution_count": null,
      "outputs": [
        {
          "output_type": "stream",
          "name": "stdout",
          "text": [
            "1 odd 2 even 3 odd 4 even 5 odd 6 even 7 odd 8 even 9 odd 10 even 11 odd 12 even 13 odd 14 even 15 odd 16 even 17 odd 18 even 19 odd "
          ]
        }
      ]
    },
    {
      "cell_type": "markdown",
      "source": [
        "***07_print_divisor***\n",
        "\n",
        "Write the helper function print_divisors(num), which takes in a number and prints all of its divisors (all the numbers from 1 to num inclusive that num can be cleanly divided by (there is no remainder to the division). Don't forget to call your function in main()!\n",
        "\n"
      ],
      "metadata": {
        "id": "MtgwJB3UhWe5"
      }
    },
    {
      "cell_type": "code",
      "source": [
        "def print_divisors(num):\n",
        "    for i in range(1, num + 1):\n",
        "        if num % i == 0:\n",
        "            print(i)\n",
        "\n",
        "def main():\n",
        "    number = int(input(\"Enter a number to find its divisors: \"))\n",
        "    print(f\"Divisors of {number} are:\")\n",
        "    print_divisors(number)\n",
        "\n",
        "if __name__ == \"__main__\":\n",
        "    main()\n"
      ],
      "metadata": {
        "colab": {
          "base_uri": "https://localhost:8080/"
        },
        "id": "ygDkCsP4heqv",
        "outputId": "b6ba5840-faaf-4e93-efaf-2534675184ae"
      },
      "execution_count": null,
      "outputs": [
        {
          "output_type": "stream",
          "name": "stdout",
          "text": [
            "Enter a number to find its divisors: 10\n",
            "Divisors of 10 are:\n",
            "1\n",
            "2\n",
            "5\n",
            "10\n"
          ]
        }
      ]
    },
    {
      "cell_type": "markdown",
      "source": [
        "***08_print_multiple***\n",
        "\n",
        "Fill out print_multiple(message, repeats), which takes as parameters a string message to print, and an integer repeats number of times to print message. We've written the main() function for you, which prompts the user for a message and a number of repeats.\n",
        "\n"
      ],
      "metadata": {
        "id": "hMlw9Aj-hrx1"
      }
    },
    {
      "cell_type": "code",
      "source": [
        "def print_multiple(message, repeats):\n",
        "    for _ in range(repeats):\n",
        "        print(message)\n",
        "\n",
        "def main():\n",
        "    msg = input(\"Enter a message: \")\n",
        "    num = int(input(\"How many times to repeat it? \"))\n",
        "    print_multiple(msg, num)\n",
        "\n",
        "if __name__ == \"__main__\":\n",
        "    main()\n"
      ],
      "metadata": {
        "colab": {
          "base_uri": "https://localhost:8080/"
        },
        "id": "kosiISslhzGf",
        "outputId": "a4e34799-69ff-4921-8c25-378e21aa58ea"
      },
      "execution_count": null,
      "outputs": [
        {
          "output_type": "stream",
          "name": "stdout",
          "text": [
            "Enter a message: Hello World\n",
            "How many times to repeat it? 3\n",
            "Hello World\n",
            "Hello World\n",
            "Hello World\n"
          ]
        }
      ]
    },
    {
      "cell_type": "markdown",
      "source": [
        "***09_sentence_generator***\n",
        "\n",
        "Implement the helper function make_sentence(word, part_of_speech) which will take a string word and an integer part_of_speech as parameters and, depending on the part of speech, place the word into one of three sentence templates (or one from your imagination!):\n",
        "\n",
        "If part_of_speech is 0, we will assume the word is a noun and use the template: \"I am excited to add this ____ to my vast collection of them!\"\n",
        "\n",
        "If part_of_speech is 1, we will assume the word is a verb use the template: \"It's so nice outside today it makes me want to ____!\"\n",
        "\n",
        "If part_of_speech is 2, we will assume the word is an adjective and use the template: \"Looking out my window, the sky is big and ____!\" make_sentence(word, part_of_speech) should not return anything, just print the correct sentence with the word filled in the blank."
      ],
      "metadata": {
        "id": "4B7ayhV2iDCB"
      }
    },
    {
      "cell_type": "code",
      "source": [
        "def generate_sentence(word, pos_type):\n",
        "    if pos_type == 0:\n",
        "        print(f\"That {word} will be a great addition to my collection!\")\n",
        "    elif pos_type == 1:\n",
        "        print(f\"I suddenly feel the urge to {word} right now!\")\n",
        "    elif pos_type == 2:\n",
        "        print(f\"The view is absolutely {word} today.\")\n",
        "    else:\n",
        "        print(\"Oops! Please enter 0 for noun, 1 for verb, or 2 for adjective.\")\n",
        "\n",
        "def main():\n",
        "    user_word = input(\"Enter a word (noun, verb, or adjective): \")\n",
        "    print(\"Now choose what kind of word it is:\")\n",
        "    print(\"0 = noun, 1 = verb, 2 = adjective\")\n",
        "    try:\n",
        "        pos = int(input(\"Your choice (0/1/2): \"))\n",
        "        generate_sentence(user_word, pos)\n",
        "    except ValueError:\n",
        "        print(\"That wasn't a valid number. Please run the program again.\")\n",
        "\n",
        "if __name__ == \"__main__\":\n",
        "    main()\n"
      ],
      "metadata": {
        "colab": {
          "base_uri": "https://localhost:8080/"
        },
        "id": "v2YnEDNEicCe",
        "outputId": "3553e704-1040-42d2-9da4-db7fb398be0f"
      },
      "execution_count": 12,
      "outputs": [
        {
          "output_type": "stream",
          "name": "stdout",
          "text": [
            "Enter a word (noun, verb, or adjective): book\n",
            "Now choose what kind of word it is:\n",
            "0 = noun, 1 = verb, 2 = adjective\n",
            "Your choice (0/1/2): 0\n",
            "That book will be a great addition to my collection!\n"
          ]
        }
      ]
    },
    {
      "cell_type": "markdown",
      "source": [
        "***10_print_ones_digit***\n",
        "\n",
        "Write a function called print_ones_digit , which takes as a parameter an integer num and prints its ones digit. The modulo (remainder) operator, %, should be helpful to you here. Call your function from main()!\n",
        "\n"
      ],
      "metadata": {
        "id": "kmEc21yblelO"
      }
    },
    {
      "cell_type": "code",
      "source": [
        "def print_ones_digit(num):\n",
        "    ones_digit = num % 10\n",
        "    print(f\"The ones digit is: {ones_digit}\")\n",
        "\n",
        "def main():\n",
        "    try:\n",
        "        number = int(input(\"Enter an integer: \"))\n",
        "        print_ones_digit(number)\n",
        "    except ValueError:\n",
        "        print(\"Please enter a valid integer.\")\n",
        "\n",
        "if __name__ == \"__main__\":\n",
        "    main()\n"
      ],
      "metadata": {
        "colab": {
          "base_uri": "https://localhost:8080/"
        },
        "id": "rf90-sW4lls3",
        "outputId": "55c56f21-c03c-473a-a4be-d5a3a7aa3415"
      },
      "execution_count": 13,
      "outputs": [
        {
          "output_type": "stream",
          "name": "stdout",
          "text": [
            "Enter an integer: 237\n",
            "The ones digit is: 7\n"
          ]
        }
      ]
    }
  ]
}