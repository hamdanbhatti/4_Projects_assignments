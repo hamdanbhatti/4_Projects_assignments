{
  "nbformat": 4,
  "nbformat_minor": 0,
  "metadata": {
    "colab": {
      "provenance": []
    },
    "kernelspec": {
      "name": "python3",
      "display_name": "Python 3"
    },
    "language_info": {
      "name": "python"
    }
  },
  "cells": [
    {
      "cell_type": "markdown",
      "source": [
        "***00_guess_my_number***\n",
        "\n",
        "Guess My Number\n",
        "\n",
        "I am thinking of a number between 0 and 99... Enter a guess: 50 Your guess is too high\n",
        "\n",
        "Enter a new number: 25 Your guess is too low\n",
        "\n",
        "Enter a new number: 40 Your guess is too low\n",
        "\n",
        "Enter a new number: 45 Your guess is too low\n",
        "\n",
        "Enter a new number: 48 Congrats! The number was: 48"
      ],
      "metadata": {
        "id": "OFHwqjr76BOF"
      }
    },
    {
      "cell_type": "code",
      "execution_count": 5,
      "metadata": {
        "colab": {
          "base_uri": "https://localhost:8080/"
        },
        "id": "vAhJ35vd5-Cg",
        "outputId": "0534aa7c-7296-4c94-daad-47d40ba7a301"
      },
      "outputs": [
        {
          "output_type": "stream",
          "name": "stdout",
          "text": [
            "I am thinking of a number between 0 and 99...\n",
            "Enter your guess (or type 'exit' to quit): 50\n",
            "📈 Your guess is too high.\n",
            "\n",
            "Enter your guess (or type 'exit' to quit): 40\n",
            "📉 Your guess is too low.\n",
            "\n",
            "Enter your guess (or type 'exit' to quit): 45\n",
            "📈 Your guess is too high.\n",
            "\n",
            "Enter your guess (or type 'exit' to quit): 42\n",
            "📉 Your guess is too low.\n",
            "\n",
            "Enter your guess (or type 'exit' to quit): 43\n",
            "🎉 Congrats! The number was: 43\n",
            "✅ You guessed it in 5 tries.\n"
          ]
        }
      ],
      "source": [
        "import random\n",
        "\n",
        "def guess_my_number():\n",
        "    secret_number = random.randint(0, 99)\n",
        "    print(\"I am thinking of a number between 0 and 99...\")\n",
        "    guess_count = 0\n",
        "\n",
        "    while True:\n",
        "        user_input = input(\"Enter your guess (or type 'exit' to quit): \").strip()\n",
        "\n",
        "        if user_input.lower() in [\"exit\", \"q\", \"quit\"]:\n",
        "            print(\"You gave up! The number was:\", secret_number)\n",
        "            break\n",
        "\n",
        "        try:\n",
        "            guess = int(user_input)\n",
        "        except ValueError:\n",
        "            print(\"❌ Please enter a valid number!\")\n",
        "            continue\n",
        "\n",
        "        guess_count += 1\n",
        "\n",
        "        if guess < secret_number:\n",
        "            print(\"📉 Your guess is too low.\\n\")\n",
        "        elif guess > secret_number:\n",
        "            print(\"📈 Your guess is too high.\\n\")\n",
        "        else:\n",
        "            print(f\"🎉 Congrats! The number was: {secret_number}\")\n",
        "            print(f\"✅ You guessed it in {guess_count} tries.\")\n",
        "            break\n",
        "\n",
        "def main():\n",
        "    guess_my_number()\n",
        "\n",
        "if __name__ == \"__main__\":\n",
        "    main()\n"
      ]
    },
    {
      "cell_type": "markdown",
      "source": [
        "***01_fibonacci***\n",
        "\n",
        "Write a program to print terms in the Fibonacci sequence up to a maximum value.\n",
        "\n",
        "In the 13th century, the Italian mathematician Leonardo Fibonacci, as a way to explain the geometric growth of a population of rabbits, devised a mathematical sequence that now bears his name. The first two terms in this sequence, Fib(0) and Fib(1), are 0 and 1, and every subsequent term is the sum of the preceding two. Thus, the first several terms in the Fibonacci sequence look like this:\n",
        "\n",
        "Fib(0) = 0 Fib(1) = 1 Fib(2) = 1 = 0 + 1 Fib(3) = 2 = 1 + 1 Fib(4) = 3 = 1 + 2 Fib(5) = 5 = 2 + 3\n",
        "\n",
        "Write a program that displays the terms in the Fibonacci sequence, starting with Fib(0) and continuing as long as the terms are less than 10,000 (you should store this value as a constant!). Thus, your program should produce the following sample run:\n",
        "\n",
        "0 1 1 2 3 5 8 13 21 34 55 89 144 233 377 610 987 1597 2584 4181 6765"
      ],
      "metadata": {
        "id": "k2bjlRJnGi1e"
      }
    },
    {
      "cell_type": "code",
      "source": [
        "MAX_VALUE = 10000\n",
        "\n",
        "def generate_fibonacci():\n",
        "    a, b = 0, 1\n",
        "    while a < MAX_VALUE:\n",
        "        print(a, end=' ')\n",
        "        a, b = b, a + b\n",
        "    print()  # For a clean newline after the loop\n",
        "\n",
        "def main():\n",
        "    print(\"Fibonacci sequence up to\", MAX_VALUE)\n",
        "    generate_fibonacci()\n",
        "\n",
        "if __name__ == \"__main__\":\n",
        "    main()\n"
      ],
      "metadata": {
        "colab": {
          "base_uri": "https://localhost:8080/"
        },
        "id": "zHVOthdYGs_d",
        "outputId": "d7c01e90-8695-4600-f54c-0491a6f5cfa6"
      },
      "execution_count": 6,
      "outputs": [
        {
          "output_type": "stream",
          "name": "stdout",
          "text": [
            "Fibonacci sequence up to 10000\n",
            "0 1 1 2 3 5 8 13 21 34 55 89 144 233 377 610 987 1597 2584 4181 6765 \n"
          ]
        }
      ]
    },
    {
      "cell_type": "markdown",
      "source": [
        "***02_print_events***\n",
        "\n",
        "Write a program that prints the first 20 even numbers. There are several correct approaches, but they all use a loop of some sort. Do no write twenty print statements\n",
        "\n",
        "The first even number is 0:\n",
        "\n",
        "0 2 4 6 8 10 12 14 16 18 20 22 24 26 28 30 32 34 36 38"
      ],
      "metadata": {
        "id": "cGoAHc-gHjQD"
      }
    },
    {
      "cell_type": "code",
      "source": [
        "TOTAL_EVEN_NUMBERS = 20\n",
        "\n",
        "def print_even_numbers():\n",
        "    for i in range(TOTAL_EVEN_NUMBERS):\n",
        "        print(i * 2, end=' ')\n",
        "    print()  # for clean line after printing\n",
        "\n",
        "def main():\n",
        "    print(\"First 20 even numbers:\")\n",
        "    print_even_numbers()\n",
        "\n",
        "if __name__ == \"__main__\":\n",
        "    main()\n"
      ],
      "metadata": {
        "colab": {
          "base_uri": "https://localhost:8080/"
        },
        "id": "y7dxqK7BHqn7",
        "outputId": "615c5293-7ccc-4c12-df65-b1542d9a3f00"
      },
      "execution_count": 8,
      "outputs": [
        {
          "output_type": "stream",
          "name": "stdout",
          "text": [
            "First 20 even numbers:\n",
            "0 2 4 6 8 10 12 14 16 18 20 22 24 26 28 30 32 34 36 38 \n"
          ]
        }
      ]
    },
    {
      "cell_type": "markdown",
      "source": [
        "***03_wholesome_machine***\n",
        "\n",
        "Write a program which prompts the user to type an affirmation of your choice (we'll use \"I am capable of doing anything I put my mind to.\") until they type it correctly. Sometimes, especially in the midst of such uncertain times, we just need to be reminded that we are resilient, capable, and strong; this little Python program may be able to help!\n",
        "\n",
        "Here's a sample run of the program (user input is in blue):\n",
        "\n",
        "Please type the following affirmation: I am capable of doing anything I put my mind to. Hmmm That was not the affirmation. Please type the following affirmation: I am capable of doing anything I put my mind to. I am capable of doing anything I put my mind to. That's right! :)\n",
        "\n",
        "Note that you can call input() with no prompt and it will still wait for a user to type something!"
      ],
      "metadata": {
        "id": "rq5_hRUbIbWt"
      }
    },
    {
      "cell_type": "code",
      "source": [
        "def main():\n",
        "    AFFIRMATION = \"I am capable of doing anything I put my mind to.\"\n",
        "\n",
        "    while True:\n",
        "        print(\"Please type the following affirmation:\")\n",
        "        user_input = input()\n",
        "\n",
        "        if user_input == AFFIRMATION:\n",
        "            print(\"That's right! :)\")\n",
        "            break\n",
        "        else:\n",
        "            print(\"Hmmm That was not the affirmation.\")\n",
        "\n",
        "if __name__ == '__main__':\n",
        "    main()\n"
      ],
      "metadata": {
        "colab": {
          "base_uri": "https://localhost:8080/"
        },
        "id": "TBlWxo-YI1Ip",
        "outputId": "d9270050-bf6a-4b2f-b249-f5bc2169b565"
      },
      "execution_count": 9,
      "outputs": [
        {
          "output_type": "stream",
          "name": "stdout",
          "text": [
            "Please type the following affirmation:\n",
            "I am capable of doing anything I put my mind to\n",
            "Hmmm That was not the affirmation.\n",
            "Please type the following affirmation:\n",
            "I am capable of doing anything I put my mind to.\n",
            "That's right! :)\n"
          ]
        }
      ]
    },
    {
      "cell_type": "markdown",
      "source": [
        "***04_liftoff***\n",
        "\n",
        "Write a program that prints out the calls for a spaceship that is about to launch. Countdown from 10 to 1 and then output Liftoff!\n",
        "\n",
        "Here's a sample run of the program:\n",
        "\n",
        "10 9 8 7 6 5 4 3 2 1 Liftoff!\n",
        "\n",
        "There are many ways to solve this problem. One approach is to use a for loop, and to use the for loop variable i. Recall that i will keep track of how many times the for loop has completed executing its body. As an example this code:\n",
        "\n",
        "for i in range(10): print(i)\n",
        "\n",
        "Will print out the values 0, 1, 2, 3, 4, 5, 6, 7, 8, 9. The values printed in liftoff are 10 minus the number of times the for loop has completed."
      ],
      "metadata": {
        "id": "2VgwMggQJbbA"
      }
    },
    {
      "cell_type": "code",
      "source": [
        "def main():\n",
        "    for i in range(10):\n",
        "        print(10 - i, end=\" \")\n",
        "    print(\"Liftoff!\")\n",
        "\n",
        "if __name__ == '__main__':\n",
        "    main()\n"
      ],
      "metadata": {
        "colab": {
          "base_uri": "https://localhost:8080/"
        },
        "id": "RvF68G5MJum1",
        "outputId": "fee6711f-e696-4e20-b884-5570ec422571"
      },
      "execution_count": 10,
      "outputs": [
        {
          "output_type": "stream",
          "name": "stdout",
          "text": [
            "10 9 8 7 6 5 4 3 2 1 Liftoff!\n"
          ]
        }
      ]
    },
    {
      "cell_type": "markdown",
      "source": [
        "***05_double_it***\n",
        "\n",
        "Write a program that asks a user to enter a number. Your program will then double that number and print out the result. It will repeat that process until the value is 100 or greater.\n",
        "\n",
        "For example if the user enters the number 2 you would then print:\n",
        "\n",
        "4 8 16 32 64 128\n",
        "\n",
        "Note that:\n",
        "\n",
        "2 doubled is 4\n",
        "\n",
        "4 doubled is 8\n",
        "\n",
        "8 doubled is 16\n",
        "\n",
        "and so on.\n",
        "\n",
        "We stop at 128 because that value is greater than 100.\n",
        "\n",
        "Maintain the current number in a variable named curr_value. When you double the number, you should be updating curr_value. Recall that you can double the value of curr_value using a line like:\n",
        "\n",
        "curr_value = curr_value * 2\n",
        "\n",
        "This program should have a while loop and the while loop condition should test if curr_value is less than 100. Thus, your program will have the line:\n",
        "\n",
        "while curr_value < 100:"
      ],
      "metadata": {
        "id": "qWzp46NvJ8wV"
      }
    },
    {
      "cell_type": "code",
      "source": [
        "def main():\n",
        "    curr_value = int(input(\"Enter a number: \"))\n",
        "\n",
        "    while curr_value < 100:\n",
        "        curr_value = curr_value * 2\n",
        "        print(curr_value, end=\" \")\n",
        "\n",
        "if __name__ == '__main__':\n",
        "    main()\n"
      ],
      "metadata": {
        "colab": {
          "base_uri": "https://localhost:8080/"
        },
        "id": "Vg8KRI3BKQW-",
        "outputId": "f2acb19f-0bd2-497a-da96-398e2aa2c736"
      },
      "execution_count": 14,
      "outputs": [
        {
          "output_type": "stream",
          "name": "stdout",
          "text": [
            "Enter a number: 2\n",
            "4 8 16 32 64 128 "
          ]
        }
      ]
    }
  ]
}