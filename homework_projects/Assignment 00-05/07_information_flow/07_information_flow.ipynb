{
  "cells": [
    {
      "cell_type": "markdown",
      "metadata": {
        "id": "pqldDf8Ls18R"
      },
      "source": [
        "***00_choosing_returns***\n",
        "\n",
        "There are times where we want to return different things from a function based on some condition. To practice this idea, imagine that we want to check if someone is an adult. We might check their age and return different things depending on how old they are!\n",
        "\n",
        "We've provided you with the ADULT_AGE variable which has the age a person is legally classified as an adult (in the United States). Fill out the is_adult(age) function, which returns True if the function takes an age that is greater than or equal to ADULT_AGE. If the function takes an age less than ADULT_AGE, return False instead."
      ]
    },
    {
      "cell_type": "code",
      "execution_count": null,
      "metadata": {
        "colab": {
          "base_uri": "https://localhost:8080/"
        },
        "id": "VqtzLGV0s0ZW",
        "outputId": "62115d5a-ccff-4988-9f00-1ca7907dd5bd"
      },
      "outputs": [
        {
          "name": "stdout",
          "output_type": "stream",
          "text": [
            "Enter your age: 18\n",
            "You're an adult!\n"
          ]
        }
      ],
      "source": [
        "ADULT_AGE = 18\n",
        "\n",
        "def is_adult(age):\n",
        "    if age >= ADULT_AGE:\n",
        "        return True\n",
        "    else:\n",
        "        return False\n",
        "\n",
        "def main():\n",
        "    try:\n",
        "        user_age = int(input(\"Enter your age: \"))\n",
        "        if is_adult(user_age):\n",
        "            print(\"You're an adult!\")\n",
        "        else:\n",
        "            print(\"You're not an adult yet.\")\n",
        "    except ValueError:\n",
        "        print(\"Please enter a valid number for age.\")\n",
        "\n",
        "if __name__ == \"__main__\":\n",
        "    main()\n"
      ]
    },
    {
      "cell_type": "markdown",
      "metadata": {
        "id": "Lp1SO3JPvSg8"
      },
      "source": [
        "***01_greetings***\n",
        "\n",
        "We've written a helper function for you called greet(name) which takes as input a string name and prints a greeting. Write some code in main() to get the user's name and then greet them, being sure to call the greet(name) helper function.\n"
      ]
    },
    {
      "cell_type": "code",
      "execution_count": null,
      "metadata": {
        "colab": {
          "background_save": true,
          "base_uri": "https://localhost:8080/"
        },
        "id": "Ts-nGdnjvhA2",
        "outputId": "ca5ec314-932a-4bdf-ed70-343522beb0fe"
      },
      "outputs": [
        {
          "name": "stdout",
          "output_type": "stream",
          "text": [
            "Hello, Hamdan! \n",
            "Welcome! .......\n"
          ]
        }
      ],
      "source": [
        "def greet(name):\n",
        "    print(\"Hello, \" + name + \"! \\nWelcome!\")\n",
        "\n",
        "def main():\n",
        "    user_name = input(\"What's your name? \")\n",
        "    greet(user_name)\n",
        "\n",
        "if __name__ == \"__main__\":\n",
        "    main()\n"
      ]
    },
    {
      "cell_type": "markdown",
      "source": [
        "***02_in_range***\n",
        "\n",
        "Implement the following function which takes in 3 integers as parameters:\n",
        "\n",
        "def in_range(n, low, high) \"\"\" Returns True if n is between low and high, inclusive. high is guaranteed to be greater than low. \"\"\""
      ],
      "metadata": {
        "id": "Tui5Y6yhxkY_"
      }
    },
    {
      "cell_type": "code",
      "source": [
        "def in_range(n, low, high):\n",
        "    \"\"\"Returns True if n is between low and high, inclusive.\"\"\"\n",
        "    return low <= n <= high\n",
        "\n",
        "\n",
        "def main():\n",
        "    n = int(input(\"Enter a number: \"))\n",
        "    low = int(input(\"Enter the lower bound: \"))\n",
        "    high = int(input(\"Enter the upper bound: \"))\n",
        "\n",
        "    if in_range(n, low, high):\n",
        "        print(f\"{n} is within the range {low} to {high}.\")\n",
        "    else:\n",
        "        print(f\"{n} is NOT within the range {low} to {high}.\")\n",
        "\n",
        "if __name__ == \"__main__\":\n",
        "    main()\n"
      ],
      "metadata": {
        "colab": {
          "base_uri": "https://localhost:8080/"
        },
        "id": "kA_9ol6IxsFe",
        "outputId": "5d360ba4-5b08-4769-8f03-34775d708cb4"
      },
      "execution_count": null,
      "outputs": [
        {
          "output_type": "stream",
          "name": "stdout",
          "text": [
            "Enter a number: 10\n",
            "Enter the lower bound: 5\n",
            "Enter the upper bound: 15\n",
            "10 is within the range 5 to 15.\n"
          ]
        }
      ]
    },
    {
      "cell_type": "markdown",
      "source": [
        "***03_in_stock***\n",
        "\n",
        "Sophia has a fruit store. She has written a function num_in_stock which takes a string fruit as a parameter and returns how many of that fruit are in her inventory. Write code in main() which will:\n",
        "\n",
        "Prompt the user to enter a fruit (\"Enter a fruit: \")\n",
        "\n",
        "Call num_in_stock(fruit) to get the number of that fruit that Sophia has in stock\n",
        "\n",
        "Print the number which are in stock if Sophia has that fruit in her inventory (there are more than 0 in stock)\n",
        "\n",
        "Print \"This fruit is not in stock.\" if Sophia has none of that fruit in her inventory.\n",
        "\n",
        "Here's two sample runs of the program (user input in bold italics):\n",
        "\n",
        "Enter a fruit: pear\n",
        "\n",
        "This fruit is in stock! Here is how many:\n",
        "\n",
        "1000\n",
        "\n",
        "Enter a fruit: lychee\n",
        "\n",
        "This fruit is not in stock."
      ],
      "metadata": {
        "id": "oSEw40kty1Vp"
      }
    },
    {
      "cell_type": "code",
      "source": [
        "def num_in_stock(fruit):\n",
        "    \"\"\"Simulates checking the inventory for a given fruit.\"\"\"\n",
        "    inventory = {\n",
        "        \"apple\": 50,\n",
        "        \"banana\": 25,\n",
        "        \"pear\": 1000,\n",
        "        \"orange\": 0,\n",
        "        \"mango\": 10\n",
        "    }\n",
        "    return inventory.get(fruit.lower(), 0)\n",
        "\n",
        "def main():\n",
        "    fruit = input(\"Enter a fruit: \")\n",
        "    stock = num_in_stock(fruit)\n",
        "\n",
        "    if stock > 0:\n",
        "        print(\"This fruit is in stock! Here is how many:\")\n",
        "        print(stock)\n",
        "    else:\n",
        "        print(\"This fruit is not in stock.\")\n",
        "\n",
        "if __name__ == \"__main__\":\n",
        "    main()\n"
      ],
      "metadata": {
        "colab": {
          "base_uri": "https://localhost:8080/"
        },
        "id": "s1F1kBrOzK5A",
        "outputId": "645e4035-d790-4864-999f-a435c7f33e24"
      },
      "execution_count": null,
      "outputs": [
        {
          "output_type": "stream",
          "name": "stdout",
          "text": [
            "Enter a fruit: apple\n",
            "This fruit is in stock! Here is how many:\n",
            "50\n"
          ]
        }
      ]
    },
    {
      "cell_type": "markdown",
      "source": [
        "***04_multiple_returns***\n",
        "\n",
        "There are times where you are working with lots of different data within a function that you want to return. While generally, we want to keep functions to have a precise purpose, sometimes that purpose just deals with multiple bits of data.\n",
        "\n",
        "To practice this, imagine we are working on a program where the user needs to enters data to sign up for a website. Fill out the get_user_data() function which:\n",
        "\n",
        "Asks the user for their first name and stores it in a variable\n",
        "\n",
        "Asks the user for their last name and stores it in a variable\n",
        "\n",
        "Asks the user for their email address and stores it in a variable\n",
        "\n",
        "Returns all three of these pieces of data in the order it was asked\n",
        "\n",
        "You can return multiple pieces of data by separating each piece with a comma in the return line.\n",
        "\n",
        "Here is an example run of the program:\n",
        "\n",
        "What is your first name?: Jane\n",
        "\n",
        "What is your last name?: Stanford\n",
        "\n",
        "What is your email address?: janestanford@stanford.edu\n",
        "\n",
        "Received the following user data: ('Jane', 'Stanford', 'janestanford@stanford.edu')"
      ],
      "metadata": {
        "id": "jFxOAzyTzdFi"
      }
    },
    {
      "cell_type": "code",
      "source": [
        "def get_user_data():\n",
        "    first_name = input(\"What is your first name?: \")\n",
        "    last_name = input(\"What is your last name?: \")\n",
        "    email = input(\"What is your email address?: \")\n",
        "    return first_name, last_name, email\n",
        "\n",
        "def main():\n",
        "    user_data = get_user_data()\n",
        "    print(\"Received the following user data:\", user_data)\n",
        "\n",
        "if __name__ == \"__main__\":\n",
        "    main()\n"
      ],
      "metadata": {
        "colab": {
          "base_uri": "https://localhost:8080/"
        },
        "id": "Qkc2CG181Q_v",
        "outputId": "c34d66cd-6a48-44ce-c30c-8a2792f63c07"
      },
      "execution_count": null,
      "outputs": [
        {
          "output_type": "stream",
          "name": "stdout",
          "text": [
            "What is your first name?: Hamdan\n",
            "What is your last name?: Bhatti\n",
            "What is your email address?: hamdanbutt991@gmail.com\n",
            "Received the following user data: ('Hamdan', 'Bhatti', 'hamdanbutt991@gmail.com')\n"
          ]
        }
      ]
    },
    {
      "cell_type": "markdown",
      "source": [
        "***05_subtract_7***\n",
        "\n",
        "Fill out the subtract_seven helper function to subtract 7 from num, and fill out the main() method to call the subtract_seven helper function! If you're stuck, revisit the add_five example from lecture.\n",
        "\n"
      ],
      "metadata": {
        "id": "dcB9_By65GXN"
      }
    },
    {
      "cell_type": "code",
      "source": [
        "def subtract_seven(num):\n",
        "    return num - 7\n",
        "\n",
        "def main():\n",
        "    number = int(input(\"Enter a number: \"))\n",
        "    result = subtract_seven(number)\n",
        "    print(\"The result after subtracting 7 is:\", result)\n",
        "\n",
        "if __name__ == \"__main__\":\n",
        "    main()\n"
      ],
      "metadata": {
        "id": "spIBkcNb5LVj",
        "colab": {
          "base_uri": "https://localhost:8080/"
        },
        "outputId": "dfce8e35-0540-414a-bd35-12751cc78918"
      },
      "execution_count": 14,
      "outputs": [
        {
          "output_type": "stream",
          "name": "stdout",
          "text": [
            "Enter a number: 24\n",
            "The result after subtracting 7 is: 17\n"
          ]
        }
      ]
    },
    {
      "cell_type": "markdown",
      "source": [
        "Assignment Complete ............"
      ],
      "metadata": {
        "id": "I-sDJwQJ6WGj"
      }
    }
  ],
  "metadata": {
    "colab": {
      "provenance": []
    },
    "kernelspec": {
      "display_name": "Python 3",
      "name": "python3"
    },
    "language_info": {
      "name": "python"
    }
  },
  "nbformat": 4,
  "nbformat_minor": 0
}