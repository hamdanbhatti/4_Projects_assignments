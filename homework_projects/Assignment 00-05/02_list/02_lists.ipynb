{
  "cells": [
    {
      "cell_type": "markdown",
      "metadata": {
        "id": "uRW_yHP-tmja"
      },
      "source": [
        "# **02_lists**\n"
      ]
    },
    {
      "cell_type": "markdown",
      "metadata": {
        "id": "IpRK9jaTt3VD"
      },
      "source": [
        "***01_add_many_number***\n",
        "\n",
        "Write a function that takes a list of numbers and returns the sum of those numbers.\n"
      ]
    },
    {
      "cell_type": "code",
      "execution_count": null,
      "metadata": {
        "colab": {
          "base_uri": "https://localhost:8080/"
        },
        "id": "FwajZrQjtcxS",
        "outputId": "9172876b-963a-4d06-98c4-f97586ffaf7f"
      },
      "outputs": [
        {
          "name": "stdout",
          "output_type": "stream",
          "text": [
            "The sum of the numbers is 15\n"
          ]
        }
      ],
      "source": [
        "def add_numbers(numbers)->int:\n",
        "    total_sum = 0\n",
        "\n",
        "    for number in numbers:\n",
        "        total_sum += number\n",
        "\n",
        "    return total_sum\n",
        "\n",
        "\n",
        "def main():\n",
        "    numbers:list[int] = [1,2,3,4,5]\n",
        "    sum_of_numbers = add_numbers(numbers)\n",
        "    print(f\"The sum of the numbers is {sum_of_numbers}\")\n",
        "\n",
        "if __name__ == \"__main__\":\n",
        "    main()"
      ]
    },
    {
      "cell_type": "markdown",
      "metadata": {
        "id": "-PPBeH6gvyM6"
      },
      "source": [
        "------------------------------------------------------------------"
      ]
    },
    {
      "cell_type": "markdown",
      "metadata": {
        "id": "tgxGZa96v0ZX"
      },
      "source": [
        "***02_double_list***\n",
        "\n",
        "Write a program that doubles each element in a list of numbers. For example, if you start with this list:\n",
        "\n",
        "numbers = [1, 2, 3, 4]\n",
        "\n",
        "You should end with this list:\n",
        "\n",
        "numbers = [2, 4, 6, 8]"
      ]
    },
    {
      "cell_type": "code",
      "execution_count": 5,
      "metadata": {
        "colab": {
          "base_uri": "https://localhost:8080/"
        },
        "id": "7P_VSXsrBDGH",
        "outputId": "5da4057b-2f6e-41b8-d749-21f39b2ec036"
      },
      "outputs": [
        {
          "name": "stdout",
          "output_type": "stream",
          "text": [
            "[2, 4, 6, 8]\n"
          ]
        }
      ],
      "source": [
        "def double_elements(numbers):\n",
        "    for i in range(len(numbers)):\n",
        "        numbers[i] *= 2  # Double the element at index i\n",
        "\n",
        "def main():\n",
        "    numbers = [1, 2, 3, 4]\n",
        "    double_elements(numbers)\n",
        "\n",
        "    print(numbers)  # Print the updated list\n",
        "\n",
        "# Calling the main function\n",
        "if __name__ == \"__main__\":\n",
        "    main()\n"
      ]
    },
    {
      "cell_type": "markdown",
      "metadata": {
        "id": "NsdGZfslGQGh"
      },
      "source": [
        "----------------------------------------------------------------"
      ]
    },
    {
      "cell_type": "markdown",
      "metadata": {
        "id": "kyxp8WR9GRkk"
      },
      "source": [
        "***03_erase_canvas***\n",
        "\n",
        "**Implement an 'eraser' on a canvas.**\n",
        "\n",
        "The canvas consists of a grid of blue 'cells' which are drawn as rectangles on the screen. We then create an eraser rectangle which, when dragged around the canvas, sets all of the rectangles it is in contact with to white.\n",
        "\n",
        "To run this file you must create .py file and import library\n",
        "\n",
        "\n",
        "**🧰 Requirements**\n",
        "\n",
        "- Python 3.x\n",
        "- `pygame` module\n",
        "\n",
        "***Install Pygame***\n",
        "\n",
        "```bash\n",
        "pip install pygame\n",
        "\n"
      ]
    },
    {
      "cell_type": "code",
      "execution_count": null,
      "metadata": {
        "id": "RLiQqJY2Nmh-"
      },
      "outputs": [],
      "source": [
        "import pygame\n",
        "\n",
        "\n",
        "CANVAS_WIDTH = 400\n",
        "CANVAS_HEIGHT = 400\n",
        "CELL_SIZE = 40\n",
        "ERASER_SIZE = 20\n",
        "\n",
        "\n",
        "BLUE = (0, 0, 255)\n",
        "WHITE = (255, 255, 255)\n",
        "PINK = (255, 182, 193)\n",
        "\n",
        "# Initialize pygame\n",
        "pygame.init()\n",
        "screen = pygame.display.set_mode((CANVAS_WIDTH, CANVAS_HEIGHT))\n",
        "pygame.display.set_caption(\"Eraser in Pygame\")\n",
        "\n",
        "# Create grid and store cell colors\n",
        "num_rows = CANVAS_HEIGHT // CELL_SIZE\n",
        "num_cols = CANVAS_WIDTH // CELL_SIZE\n",
        "grid = [[BLUE for _ in range(num_cols)] for _ in range(num_rows)]\n",
        "\n",
        "\n",
        "running = True\n",
        "while running:\n",
        "    screen.fill(WHITE) \n",
        "\n",
        "    # Get mouse position\n",
        "    mouse_x, mouse_y = pygame.mouse.get_pos()\n",
        "    eraser_rect = pygame.Rect(mouse_x, mouse_y, ERASER_SIZE, ERASER_SIZE)\n",
        "\n",
        "    # Variable to track if all cells are erased\n",
        "    all_erased = True  \n",
        "\n",
        "    # Draw and update grid\n",
        "    for row in range(num_rows):\n",
        "        for col in range(num_cols):\n",
        "            cell_x = col * CELL_SIZE\n",
        "            cell_y = row * CELL_SIZE\n",
        "            cell_rect = pygame.Rect(cell_x, cell_y, CELL_SIZE, CELL_SIZE)\n",
        "\n",
        "            # Check if eraser touches this cell\n",
        "            if eraser_rect.colliderect(cell_rect):\n",
        "                grid[row][col] = WHITE  \n",
        "\n",
        "            # If there's still any blue cell, set all_erased to False\n",
        "            if grid[row][col] == BLUE:\n",
        "                all_erased = False  \n",
        "\n",
        "            # Draw the cell with its current color\n",
        "            pygame.draw.rect(screen, grid[row][col], cell_rect)\n",
        "\n",
        "    # Draw eraser\n",
        "    pygame.draw.rect(screen, PINK, eraser_rect)\n",
        "\n",
        "    # End the program if all cells are erased\n",
        "    if all_erased:\n",
        "        print(\"All cells erased! Exiting program...\")\n",
        "        pygame.quit()\n",
        "        break\n",
        "\n",
        "    # Handle events\n",
        "    for event in pygame.event.get():\n",
        "        if event.type == pygame.QUIT:\n",
        "            running = False\n",
        "\n",
        "    pygame.display.flip() \n",
        "    pygame.time.delay(30)  \n",
        "\n",
        "pygame.quit()\n",
        "\n",
        "\n"
      ]
    },
    {
      "cell_type": "markdown",
      "metadata": {
        "id": "yL8A8q0uoTfY"
      },
      "source": [
        "***04_flowing_with_data_structures***\n",
        "\n",
        "In the information flow lesson, we discussed using a variable storing a number as an example of scope. We saw that changes we made to the number inside a function did not stay unless we returned it. This is true for what we call immutable data types which include things like numbers and strings.\n",
        "\n",
        "However, there are also mutable data types where changes stay even if we don't return anything. Some examples of mutable data types are lists and dictionaries. This means that you should be mindful when modifying lists and dictionaries within helper functions since their changes stay whether or not you return them.\n",
        "\n"
      ]
    },
    {
      "cell_type": "code",
      "execution_count": 9,
      "metadata": {},
      "outputs": [
        {
          "name": "stdout",
          "output_type": "stream",
          "text": [
            "List before adding copies: []\n",
            "List after adding copies: ['Hello Coders', 'Hello Coders', 'Hello Coders']\n"
          ]
        }
      ],
      "source": [
        "def add_copies(list,data):\n",
        "    for i in range(3):\n",
        "        list.append(data)\n",
        "\n",
        "def main():\n",
        "    user_input = input(\"Enter your message to create copy: \")\n",
        "    list = []\n",
        "    print(f\"List before adding copies: {list}\")\n",
        "    add_copies(list, user_input)\n",
        "    print(f\"List after adding copies: {list}\")\n",
        "\n",
        "if __name__ == \"__main__\":\n",
        "    main()"
      ]
    },
    {
      "cell_type": "markdown",
      "metadata": {},
      "source": [
        "***05_get_first_element***\n",
        "\n",
        "Fill out the function get_first_element(lst) which takes in a list lst as a parameter and prints the first element in the list. The list is guaranteed to be non-empty."
      ]
    },
    {
      "cell_type": "code",
      "execution_count": 1,
      "metadata": {},
      "outputs": [
        {
          "name": "stdout",
          "output_type": "stream",
          "text": [
            "First element: apple\n"
          ]
        }
      ],
      "source": [
        "def get_first_element(lst):\n",
        "    \"\"\"Prints the first element of the given list.\"\"\"\n",
        "    print(\"First element:\", lst[0])  \n",
        "\n",
        "# Taking user input \n",
        "n = int(input(\"Enter the number of elements in the list: \"))\n",
        "\n",
        "lst = []  # Empty list\n",
        "for i in range(n):\n",
        "    element = input(f\"Enter element {i+1}: \")  # Taking input one by one\n",
        "    lst.append(element)  # Adding the element to the list\n",
        "\n",
        "def main():\n",
        "    get_first_element(lst)\n",
        "\n",
        "if __name__ == \"__main__\":\n",
        "    main()\n"
      ]
    },
    {
      "cell_type": "markdown",
      "metadata": {},
      "source": [
        "***07_get_list***\n",
        "\n",
        "Write a program which continuously asks the user to enter values which are added one by one into a list. When the user presses enter without typing anything, print the list."
      ]
    },
    {
      "cell_type": "code",
      "execution_count": 1,
      "metadata": {},
      "outputs": [
        {
          "name": "stdout",
          "output_type": "stream",
          "text": [
            "Final List: ['Hello', 'World', 'hello', 'world']\n"
          ]
        }
      ],
      "source": [
        "def add_values():\n",
        "    values = []\n",
        "\n",
        "    while True:\n",
        "        user_input = input(\"Enter your values or Enter to finish\")\n",
        "\n",
        "        if user_input == \"\":\n",
        "            break\n",
        "        values.append(user_input)\n",
        "    return values\n",
        "\n",
        "def main():\n",
        "    values = add_values()\n",
        "    print(f\"Final List: {values}\")\n",
        "\n",
        "if __name__ == \"__main__\":\n",
        "    main()\n"
      ]
    },
    {
      "cell_type": "markdown",
      "metadata": {},
      "source": [
        "***08_shorten***\n",
        "\n",
        "Fill out the function shorten(lst) which removes elements from the end of lst, which is a list, and prints each item it removes until lst is MAX_LENGTH items long. If lst is already shorter than MAX_LENGTH you should leave it unchanged."
      ]
    },
    {
      "cell_type": "code",
      "execution_count": null,
      "metadata": {},
      "outputs": [
        {
          "name": "stdout",
          "output_type": "stream",
          "text": [
            "Removed: developer\n",
            "Removed: coder\n",
            "Final List: ['hello', 'world']\n"
          ]
        }
      ],
      "source": [
        "max_length:int = 2  # Maximum length of the list\n",
        "# Function to shorten the list to the maximum length\n",
        "\n",
        "def shorten(lst):\n",
        "    \"\"\"Shortens the list to the maximum length.\"\"\"\n",
        "    while len(lst) > max_length:\n",
        "        last_elem = lst.pop()\n",
        "        print(f\"Removed: {last_elem}\")\n",
        "\n",
        "\n",
        "# Function to get user input list\n",
        "\n",
        "def get_lst():\n",
        "    \"\"\"Gets a list of elements from the user.\"\"\"\n",
        "    lst = []\n",
        "    while True:\n",
        "        user_input = input(\"Enter your values or Enter to finish\")\n",
        "        if user_input == \"\":\n",
        "            break\n",
        "        lst.append(user_input)\n",
        "    return lst\n",
        "\n",
        "def main():\n",
        "    lst = get_lst()\n",
        "    shorten(lst)\n",
        "    print(f\"Final List: {lst}\")\n",
        "\n",
        "if __name__ == \"__main__\":\n",
        "    main()        "
      ]
    }
  ],
  "metadata": {
    "colab": {
      "provenance": []
    },
    "kernelspec": {
      "display_name": "Python 3",
      "name": "python3"
    },
    "language_info": {
      "codemirror_mode": {
        "name": "ipython",
        "version": 3
      },
      "file_extension": ".py",
      "mimetype": "text/x-python",
      "name": "python",
      "nbconvert_exporter": "python",
      "pygments_lexer": "ipython3",
      "version": "3.13.2"
    }
  },
  "nbformat": 4,
  "nbformat_minor": 0
}
