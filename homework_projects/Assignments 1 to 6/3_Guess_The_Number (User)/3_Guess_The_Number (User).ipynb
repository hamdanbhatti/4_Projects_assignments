{
 "cells": [
  {
   "cell_type": "code",
   "execution_count": 3,
   "id": "7152f63f",
   "metadata": {},
   "outputs": [
    {
     "name": "stdout",
     "output_type": "stream",
     "text": [
      "Welcome to 'Guess the Number (User)' with Binary Search!\n",
      "\n",
      "Think of a number between 1 and 100, and I will try to guess it!\n",
      "Tell me if my guess is High (h), Low (l), or Correct (c).\n",
      "\n",
      "Please enter only h, l, or c.\n",
      "🎉 Yay! I guessed your number 45 in 8 tries using Binary Search!\n"
     ]
    }
   ],
   "source": [
    "print(\"Welcome to 'Guess the Number (User)' with Binary Search!\\n\")\n",
    "print(\"Think of a number between 1 and 100, and I will try to guess it!\")\n",
    "print(\"Tell me if my guess is High (h), Low (l), or Correct (c).\\n\")\n",
    "\n",
    "low = 1\n",
    "high = 100\n",
    "attempts = 0\n",
    "feedback = \"\"\n",
    "\n",
    "while feedback != \"c\" and low <= high:\n",
    "    guess = (low + high) // 2  # middle value (binary search step)\n",
    "    attempts += 1\n",
    "    feedback = input(f\"Is {guess} too High (h), too Low (l), or Correct (c)? \").lower()\n",
    "\n",
    "    if feedback == \"h\":\n",
    "        high = guess - 1\n",
    "    elif feedback == \"l\":\n",
    "        low = guess + 1\n",
    "    elif feedback == \"c\":\n",
    "        print(f\"🎉 Yay! I guessed your number {guess} in {attempts} tries using Binary Search!\")\n",
    "    else:\n",
    "        print(\"Please enter only h, l, or c.\")\n"
   ]
  }
 ],
 "metadata": {
  "kernelspec": {
   "display_name": "Python 3",
   "language": "python",
   "name": "python3"
  },
  "language_info": {
   "codemirror_mode": {
    "name": "ipython",
    "version": 3
   },
   "file_extension": ".py",
   "mimetype": "text/x-python",
   "name": "python",
   "nbconvert_exporter": "python",
   "pygments_lexer": "ipython3",
   "version": "3.13.5"
  }
 },
 "nbformat": 4,
 "nbformat_minor": 5
}
