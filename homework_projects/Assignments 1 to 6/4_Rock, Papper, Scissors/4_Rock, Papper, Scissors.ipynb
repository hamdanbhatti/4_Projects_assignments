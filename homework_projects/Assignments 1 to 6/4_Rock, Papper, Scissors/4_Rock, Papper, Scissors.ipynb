{
 "cells": [
  {
   "cell_type": "code",
   "execution_count": 1,
   "id": "cc1d9efb",
   "metadata": {},
   "outputs": [
    {
     "name": "stdout",
     "output_type": "stream",
     "text": [
      "🎮 Welcome to Rock, Paper, Scissors!\n",
      "\n",
      "Computer chose: scissors\n",
      "🎉 You win!\n",
      "\n",
      "Computer chose: rock\n",
      "It's a draw! 😐\n",
      "\n",
      "Computer chose: paper\n",
      "🎉 You win!\n",
      "\n",
      "Computer chose: paper\n",
      "It's a draw! 😐\n",
      "\n",
      "Thanks for playing! Goodbye 👋\n"
     ]
    }
   ],
   "source": [
    "import random\n",
    "\n",
    "print(\"🎮 Welcome to Rock, Paper, Scissors!\\n\")\n",
    "\n",
    "# Options\n",
    "options = [\"rock\", \"paper\", \"scissors\"]\n",
    "\n",
    "while True:\n",
    "    # User ki choice\n",
    "    user_choice = input(\"Choose Rock, Paper or Scissors (or 'q' to quit): \").lower()\n",
    "    \n",
    "    if user_choice == \"q\":\n",
    "        print(\"Thanks for playing! Goodbye 👋\")\n",
    "        break\n",
    "\n",
    "    if user_choice not in options:\n",
    "        print(\"Invalid choice! Please try again.\")\n",
    "        continue\n",
    "\n",
    "    # Computer ki random choice\n",
    "    computer_choice = random.choice(options)\n",
    "    print(f\"Computer chose: {computer_choice}\")\n",
    "\n",
    "    # Winner decide karo\n",
    "    if user_choice == computer_choice:\n",
    "        print(\"It's a draw! 😐\")\n",
    "    elif (user_choice == \"rock\" and computer_choice == \"scissors\") or \\\n",
    "         (user_choice == \"scissors\" and computer_choice == \"paper\") or \\\n",
    "         (user_choice == \"paper\" and computer_choice == \"rock\"):\n",
    "        print(\"🎉 You win!\")\n",
    "    else:\n",
    "        print(\"😢 Computer wins!\")\n",
    "    \n",
    "    print()  # new line\n"
   ]
  }
 ],
 "metadata": {
  "kernelspec": {
   "display_name": "Python 3",
   "language": "python",
   "name": "python3"
  },
  "language_info": {
   "codemirror_mode": {
    "name": "ipython",
    "version": 3
   },
   "file_extension": ".py",
   "mimetype": "text/x-python",
   "name": "python",
   "nbconvert_exporter": "python",
   "pygments_lexer": "ipython3",
   "version": "3.13.5"
  }
 },
 "nbformat": 4,
 "nbformat_minor": 5
}
