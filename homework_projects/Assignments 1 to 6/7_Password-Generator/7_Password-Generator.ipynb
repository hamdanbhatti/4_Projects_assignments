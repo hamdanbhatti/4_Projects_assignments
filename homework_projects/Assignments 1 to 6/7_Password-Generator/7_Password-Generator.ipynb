{
 "cells": [
  {
   "cell_type": "code",
   "execution_count": 2,
   "id": "9252d33e",
   "metadata": {},
   "outputs": [
    {
     "name": "stdout",
     "output_type": "stream",
     "text": [
      "🔐 Password Generator\n",
      "\n",
      "\n",
      "Your generated password is: u+w(\"(.q\n"
     ]
    }
   ],
   "source": [
    "import random\n",
    "import string\n",
    "\n",
    "print(\"🔐 Password Generator\\n\")\n",
    "\n",
    "# User input\n",
    "length = int(input(\"Enter password length: \"))\n",
    "\n",
    "# Characters to use\n",
    "characters = string.ascii_letters + string.digits + string.punctuation\n",
    "# ascii_letters = A-Z + a-z\n",
    "# digits = 0-9\n",
    "# punctuation = special characters (!@#$%)\n",
    "\n",
    "# Generate password\n",
    "password = \"\".join(random.choice(characters) for _ in range(length))\n",
    "\n",
    "print(f\"\\nYour generated password is: {password}\")\n"
   ]
  }
 ],
 "metadata": {
  "kernelspec": {
   "display_name": "Python 3",
   "language": "python",
   "name": "python3"
  },
  "language_info": {
   "codemirror_mode": {
    "name": "ipython",
    "version": 3
   },
   "file_extension": ".py",
   "mimetype": "text/x-python",
   "name": "python",
   "nbconvert_exporter": "python",
   "pygments_lexer": "ipython3",
   "version": "3.13.5"
  }
 },
 "nbformat": 4,
 "nbformat_minor": 5
}
