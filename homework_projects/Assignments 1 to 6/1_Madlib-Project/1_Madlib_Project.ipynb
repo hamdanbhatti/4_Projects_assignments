{
  "cells": [
    {
      "cell_type": "code",
      "execution_count": null,
      "metadata": {
        "colab": {
          "base_uri": "https://localhost:8080/"
        },
        "id": "wY_hHqo8Avb2",
        "outputId": "fcf8c333-ae41-49b6-9a69-4c96ccd2ca3a"
      },
      "outputs": [
        {
          "name": "stdout",
          "output_type": "stream",
          "text": [
            "Welcome to the Madlib Game!\n",
            "\n",
            "Enter a name: Kareen\n",
            "Enter a place: Jungle\n",
            "Enter an animal: Monkey\n",
            "Enter a verb: shout\n",
            "Enter an adjective: Cute\n",
            "Enter a food: Banana\n",
            "\n",
            "Here is your Madlib story:\n",
            "\n",
            "Once upon a time, Kareen went to Jungle.\n",
            "There, Kareen saw a Cute Monkey.\n",
            "The Monkey started to shout loudly.\n",
            "Surprised, Kareen shared some Banana with it.\n",
            "It was the beginning of a strange but fun friendship!\n",
            "\n"
          ]
        }
      ],
      "source": [
        "# Madlib Project in Python\n",
        "\n",
        "print(\"Welcome to the Madlib Game!\\n\")\n",
        "\n",
        "# User inputs for the Madlib\n",
        "name = input(\"Enter a name: \")\n",
        "place = input(\"Enter a place: \")\n",
        "animal = input(\"Enter an animal: \")\n",
        "verb = input(\"Enter a verb: \")\n",
        "adjective = input(\"Enter an adjective: \")\n",
        "food = input(\"Enter a food: \")\n",
        "\n",
        "# Story template\n",
        "story = f\"\"\"\n",
        "Once upon a time, {name} went to {place}.\n",
        "There, {name} saw a {adjective} {animal}.\n",
        "The {animal} started to {verb} loudly.\n",
        "Surprised, {name} shared some {food} with it.\n",
        "It was the beginning of a strange but fun friendship!\n",
        "\"\"\"\n",
        "\n",
        "print(\"\\nHere is your Madlib story:\")\n",
        "print(story)\n"
      ]
    }
  ],
  "metadata": {
    "colab": {
      "provenance": []
    },
    "kernelspec": {
      "display_name": "Python 3",
      "name": "python3"
    },
    "language_info": {
      "name": "python"
    }
  },
  "nbformat": 4,
  "nbformat_minor": 0
}
