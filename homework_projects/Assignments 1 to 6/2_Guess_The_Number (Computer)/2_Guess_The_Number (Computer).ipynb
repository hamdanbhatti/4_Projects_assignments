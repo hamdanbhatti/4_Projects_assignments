{
 "cells": [
  {
   "cell_type": "code",
   "execution_count": null,
   "id": "b7e87b46",
   "metadata": {},
   "outputs": [],
   "source": [
    "import random\n",
    "\n",
    "print(\"Welcome to Guess the Number Game!\\n\")\n",
    "\n",
    "# Computer selects a random number\n",
    "number = random.randint(1, 100)\n",
    "\n",
    "# User Guess\n",
    "attempts = 0\n",
    "\n",
    "while True:\n",
    "    guess = int(input(\"Guess a number between 1 and 100: \"))\n",
    "    attempts += 1\n",
    "    \n",
    "    if guess < number:\n",
    "        print(\"Too low! Try again.\")\n",
    "    elif guess > number:\n",
    "        print(\"Too high! Try again.\")\n",
    "    else:\n",
    "        print(f\"🎉 Congratulations! You guessed it in {attempts} tries.\")\n",
    "        break\n"
   ]
  }
 ],
 "metadata": {
  "kernelspec": {
   "display_name": "Python 3",
   "language": "python",
   "name": "python3"
  },
  "language_info": {
   "codemirror_mode": {
    "name": "ipython",
    "version": 3
   },
   "file_extension": ".py",
   "mimetype": "text/x-python",
   "name": "python",
   "nbconvert_exporter": "python",
   "pygments_lexer": "ipython3",
   "version": "3.13.5"
  }
 },
 "nbformat": 4,
 "nbformat_minor": 5
}
