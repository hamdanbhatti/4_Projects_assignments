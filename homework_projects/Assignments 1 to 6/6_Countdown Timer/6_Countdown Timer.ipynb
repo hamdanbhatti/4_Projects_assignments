{
 "cells": [
  {
   "cell_type": "code",
   "execution_count": 1,
   "id": "820189eb",
   "metadata": {},
   "outputs": [
    {
     "name": "stdout",
     "output_type": "stream",
     "text": [
      "⏳ Countdown Timer\n",
      "\n",
      "⏰ Time's up!\n"
     ]
    }
   ],
   "source": [
    "import time\n",
    "\n",
    "print(\"⏳ Countdown Timer\\n\")\n",
    "\n",
    "# User input\n",
    "seconds = int(input(\"Enter time in seconds: \"))\n",
    "\n",
    "while seconds > 0:\n",
    "    mins, secs = divmod(seconds, 60)  # divide into minutes & seconds\n",
    "    timer = f\"{mins:02d}:{secs:02d}\"\n",
    "    print(timer, end=\"\\r\")  # overwrite same line\n",
    "    time.sleep(1)\n",
    "    seconds -= 1\n",
    "\n",
    "print(\"⏰ Time's up!\")\n"
   ]
  }
 ],
 "metadata": {
  "kernelspec": {
   "display_name": "Python 3",
   "language": "python",
   "name": "python3"
  },
  "language_info": {
   "codemirror_mode": {
    "name": "ipython",
    "version": 3
   },
   "file_extension": ".py",
   "mimetype": "text/x-python",
   "name": "python",
   "nbconvert_exporter": "python",
   "pygments_lexer": "ipython3",
   "version": "3.13.5"
  }
 },
 "nbformat": 4,
 "nbformat_minor": 5
}
