{
  "nbformat": 4,
  "nbformat_minor": 0,
  "metadata": {
    "colab": {
      "provenance": []
    },
    "kernelspec": {
      "name": "python3",
      "display_name": "Python 3"
    },
    "language_info": {
      "name": "python"
    }
  },
  "cells": [
    {
      "cell_type": "markdown",
      "source": [
        "***01_add_two_numbers***\n",
        "\n",
        "**Write a Python program that takes two integer inputs from the user and calculates their sum**"
      ],
      "metadata": {
        "id": "Habg0Cd-GZBc"
      }
    },
    {
      "cell_type": "code",
      "execution_count": 3,
      "metadata": {
        "colab": {
          "base_uri": "https://localhost:8080/"
        },
        "id": "7jKGOCLYGIX9",
        "outputId": "7948a6cc-41b9-4558-a99e-739492bb5bee"
      },
      "outputs": [
        {
          "output_type": "stream",
          "name": "stdout",
          "text": [
            "Enter first Number2\n",
            "Enter second Number2\n",
            "2 + 2 = 4\n"
          ]
        }
      ],
      "source": [
        "def main():\n",
        "  num1 = int(input(\"Enter first Number\"))\n",
        "  num2 = int(input(\"Enter second Number\"))\n",
        "\n",
        "  # Sum of two number\n",
        "  print(f\"{num1} + {num2} = {num1 + num2}\")\n",
        "\n",
        "if __name__ == '__main__':\n",
        "    main()"
      ]
    },
    {
      "cell_type": "markdown",
      "source": [
        "***02_agreement_bot***\n",
        "\n",
        "Write a program which asks the user what their favorite animal is, and then always responds with \"My favorite animal is also ___!\""
      ],
      "metadata": {
        "id": "dHXFEdZTRnaC"
      }
    },
    {
      "cell_type": "code",
      "source": [
        "def main():\n",
        "\n",
        "\n",
        "    # Ask the user for their favorite animal\n",
        "    favorite_animal = input(\"What is your favorite animal? \")\n",
        "\n",
        "    print(f\"My favorite animal is also  {favorite_animal}!\")\n",
        "\n",
        "if __name__ == '__main__':\n",
        "    main()"
      ],
      "metadata": {
        "colab": {
          "base_uri": "https://localhost:8080/"
        },
        "id": "Ci44CeF_NOUC",
        "outputId": "de2daf9c-f3f3-4132-f50c-6fae2e8d64b3"
      },
      "execution_count": 6,
      "outputs": [
        {
          "output_type": "stream",
          "name": "stdout",
          "text": [
            "What is your favorite animal? cat\n",
            "My favorite animal is also  cat!\n"
          ]
        }
      ]
    },
    {
      "cell_type": "markdown",
      "source": [
        "***03_fahrenheit_to_celsius***\n",
        "\n",
        "Write a program which prompts the user for a temperature in Fahrenheit (this can be a number with decimal places!) and outputs the temperature converted to Celsius."
      ],
      "metadata": {
        "id": "Lb_UA_orUHz0"
      }
    },
    {
      "cell_type": "code",
      "source": [
        "# ANSI escape codes for bold italic text\n",
        "BOLD_ITALIC = \"\\033[1;3m\"\n",
        "RESET = \"\\033[0m\"\n",
        "\n",
        "def fahrenheit_to_celsius(fahrenheit: float) -> float:\n",
        "    \"\"\"Converts Fahrenheit to Celsius.\"\"\"\n",
        "    return (fahrenheit - 32) * 5.0 / 9.0\n",
        "\n",
        "def main():\n",
        "    degrees_fahrenheit = float(input(\"Enter temperature in Fahrenheit: \"))\n",
        "\n",
        "    degrees_celsius = fahrenheit_to_celsius(degrees_fahrenheit)\n",
        "\n",
        "    print(f\"Temperature: {BOLD_ITALIC}{degrees_fahrenheit:.1f}F{RESET} = {degrees_celsius:.2f}C\")\n",
        "\n",
        "if __name__ == \"__main__\":\n",
        "    main()\n"
      ],
      "metadata": {
        "colab": {
          "base_uri": "https://localhost:8080/"
        },
        "id": "JmZZDSgYUXlr",
        "outputId": "c425b6f4-da22-43e2-8632-e0d9a1b6184c"
      },
      "execution_count": 11,
      "outputs": [
        {
          "output_type": "stream",
          "name": "stdout",
          "text": [
            "Enter temperature in Fahrenheit: 24\n",
            "Temperature: \u001b[1;3m24.0F\u001b[0m = -4.44C\n"
          ]
        }
      ]
    },
    {
      "cell_type": "markdown",
      "source": [
        "***04_how_old_are_they***\n",
        "\n",
        "Write a program to solve this age-related riddle!\n",
        "\n",
        "Anton, Beth, Chen, Drew, and Ethan are all friends. Their ages are as follows:\n",
        "\n",
        "Anton is 21 years old.\n",
        "\n",
        "Beth is 6 years older than Anton.\n",
        "\n",
        "Chen is 20 years older than Beth.\n",
        "\n",
        "Drew is as old as Chen's age plus Anton's age.\n",
        "\n",
        "Ethan is the same age as Chen."
      ],
      "metadata": {
        "id": "5MBgeVZfXpix"
      }
    },
    {
      "cell_type": "code",
      "source": [
        "def main():\n",
        "# Define 5 friends ages\n",
        "    anton_age:int = 21\n",
        "    beth_age:int = anton_age + 6\n",
        "    chen_age:int = beth_age + 20\n",
        "    drew_age:int = chen_age + anton_age\n",
        "    ethan_age:int = chen_age\n",
        "\n",
        "# Print their ages\n",
        "\n",
        "    print(f\"Anton is {str(anton_age)} years old.\")\n",
        "    print(f\"Beth is {str(beth_age)} years old.\")\n",
        "    print(f\"Chen is {str(chen_age)} years old.\")\n",
        "    print(f\"Drew is {str(drew_age)} years old.\")\n",
        "    print(f\"Ethan is {str(ethan_age)} years old.\")\n",
        "\n",
        "if __name__ == '__main__':\n",
        "    main()\n",
        "\n"
      ],
      "metadata": {
        "colab": {
          "base_uri": "https://localhost:8080/"
        },
        "id": "ew2hHfWfX0tr",
        "outputId": "73d53065-d2f1-46d8-f31f-4e70cc9eb185"
      },
      "execution_count": 13,
      "outputs": [
        {
          "output_type": "stream",
          "name": "stdout",
          "text": [
            "Anton is 21 years old.\n",
            "Beth is 27 years old.\n",
            "Chen is 47 years old.\n",
            "Drew is 68 years old.\n",
            "Ethan is 47 years old.\n"
          ]
        }
      ]
    },
    {
      "cell_type": "markdown",
      "source": [
        "***05_triangle_perimeter***\n",
        "\n",
        "Prompt the user to enter the lengths of each side of a triangle and then calculate and print the perimeter of the triangle (the sum of all of the side lengths)."
      ],
      "metadata": {
        "id": "7IqboCIYZ8It"
      }
    },
    {
      "cell_type": "code",
      "source": [
        "def main():\n",
        "    tri_1 = float(input(\"Enter the length of side 1: \"))\n",
        "    tri_2 = float(input(\"Enter the length of side 2: \"))\n",
        "    tri_3 = float(input(\"Enter the length of side 3: \"))\n",
        "\n",
        "    sum_of_sides = tri_1 + tri_2 + tri_3\n",
        "\n",
        "    print(f\"The perimeter of the triangle is {sum_of_sides}\")\n",
        "\n",
        "if __name__ == '__main__':\n",
        "    main()"
      ],
      "metadata": {
        "colab": {
          "base_uri": "https://localhost:8080/"
        },
        "id": "dRv8vsVtbkru",
        "outputId": "031d63e6-482f-4ce9-c769-97c178011b72"
      },
      "execution_count": 17,
      "outputs": [
        {
          "output_type": "stream",
          "name": "stdout",
          "text": [
            "Enter the length of side 1: 2\n",
            "Enter the length of side 2: 2\n",
            "Enter the length of side 3: 2\n",
            "The perimeter of the triangle is 6.0\n"
          ]
        }
      ]
    },
    {
      "cell_type": "markdown",
      "source": [
        "***06_square_number***\n",
        "\n",
        "Ask the user for a number and print its square (the product of the number times itself).\n",
        "\n"
      ],
      "metadata": {
        "id": "TYnWS954j9Lq"
      }
    },
    {
      "cell_type": "code",
      "source": [
        "def main():\n",
        "    num = float(input(\"Enter a number: \"))\n",
        "\n",
        "    square = num * num\n",
        "\n",
        "    print(f\"The square of {num} is {square}\")\n",
        "\n",
        "if __name__ == \"__main__\":\n",
        "    main()"
      ],
      "metadata": {
        "colab": {
          "base_uri": "https://localhost:8080/"
        },
        "id": "DKIEbEYVkAuc",
        "outputId": "6e6f5ed4-ba1b-474a-a273-bc5d0a787818"
      },
      "execution_count": 18,
      "outputs": [
        {
          "output_type": "stream",
          "name": "stdout",
          "text": [
            "Enter a number: 2\n",
            "The square of 2.0 is 4.0\n"
          ]
        }
      ]
    }
  ]
}