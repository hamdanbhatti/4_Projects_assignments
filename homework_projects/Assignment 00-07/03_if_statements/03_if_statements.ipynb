{
  "cells": [
    {
      "cell_type": "markdown",
      "metadata": {
        "id": "QbDbs4hwBRnA"
      },
      "source": [
        "***01_print_events***\n",
        "\n",
        "Write a program that prints the first 20 even numbers. There are several correct approaches, but they all use a loop of some sort. Do no write twenty print statements\n",
        "\n"
      ]
    },
    {
      "cell_type": "code",
      "execution_count": 1,
      "metadata": {
        "colab": {
          "base_uri": "https://localhost:8080/"
        },
        "id": "4skexIjNDkCr",
        "outputId": "1dca62a7-9940-45e2-e621-50c3a0e4cabc"
      },
      "outputs": [
        {
          "name": "stdout",
          "output_type": "stream",
          "text": [
            "0\n",
            "2\n",
            "4\n",
            "6\n",
            "8\n",
            "10\n",
            "12\n",
            "14\n",
            "16\n",
            "18\n",
            "20\n",
            "22\n",
            "24\n",
            "26\n",
            "28\n",
            "30\n",
            "32\n",
            "34\n",
            "36\n",
            "38\n"
          ]
        }
      ],
      "source": [
        "def main():\n",
        "\n",
        "    for i in range(20):\n",
        "        print(i*2)\n",
        "\n",
        "if __name__ == '__main__':\n",
        "    main()"
      ]
    },
    {
      "cell_type": "markdown",
      "metadata": {
        "id": "KrSshNUXEMED"
      },
      "source": [
        "***02_international_voting_age***\n",
        "\n",
        "Write a program which asks a user for their age and lets them know if they can or can't vote in the following three fictional countries.\n",
        "\n",
        "Around the world, different countries have different voting ages. In the fictional countries of Peturksbouipo, Stanlau, and Mayengua, the voting ages are very different:\n",
        "\n",
        "the voting age in Peturksbouipo is 16 (in real life, this is the voting age in, for example, Scotland, Ethiopia, and Austria)\n",
        "\n",
        "the voting age in Stanlau is 25 (in real life this is the voting age in the United Arab Emirates)\n",
        "\n",
        "the voting age in Mayengua is 48 (in real life, as far as we can tell, this isn't the voting age anywhere)\n",
        "\n",
        "Your code should prompt the for their age and print whether or not they can vote in Peturksbouipo, Stanlau, or Mayengua."
      ]
    },
    {
      "cell_type": "code",
      "execution_count": 11,
      "metadata": {
        "colab": {
          "base_uri": "https://localhost:8080/"
        },
        "id": "MHJcMUdLErSP",
        "outputId": "981226e1-53bf-450f-c549-22af8a496b79"
      },
      "outputs": [
        {
          "name": "stdout",
          "output_type": "stream",
          "text": [
            "Enter your age: 25\n",
            "You can vote in Peturksbouipo.\n",
            "You can vote in Stanlau.\n",
            "You cannot vote in Mayengua.\n"
          ]
        }
      ],
      "source": [
        "def main():\n",
        "    try:\n",
        "        # Ask the user for their age\n",
        "        age = int(input(\"Enter your age: \"))\n",
        "\n",
        "        # Peturksbouipo voting check\n",
        "        if age >= 16:\n",
        "            print(\"You can vote in Peturksbouipo.\")\n",
        "        else:\n",
        "            print(\"You cannot vote in Peturksbouipo.\")\n",
        "\n",
        "        # Stanlau voting check\n",
        "        if age >= 25:\n",
        "            print(\"You can vote in Stanlau.\")\n",
        "        else:\n",
        "            print(\"You cannot vote in Stanlau.\")\n",
        "\n",
        "        # Mayengua voting check\n",
        "        if age >= 48:\n",
        "            print(\"You can vote in Mayengua.\")\n",
        "        else:\n",
        "            print(\"You cannot vote in Mayengua.\")\n",
        "\n",
        "    except ValueError:\n",
        "        print(\"Invalid input! Please enter a valid number for your age.\")\n",
        "\n",
        "# Run the main function\n",
        "if __name__ == \"__main__\":\n",
        "    main()\n"
      ]
    },
    {
      "cell_type": "markdown",
      "metadata": {
        "id": "jjCdf2feGQ9O"
      },
      "source": [
        "***03_leap_year***\n",
        "\n",
        "Write a program that reads a year from the user and tells whether a given year is a leap year or not.\n",
        "\n",
        "A leap year (also known as an intercalary year or bissextile year) is a calendar year that contains an additional day (or, in the case of a lunisolar calendar, a month) added to keep the calendar year synchronized with the astronomical year or seasonal year. In the Gregorian calendar, each leap year has 366 days instead of 365, by extending February to 29 days rather than the common 28.\n",
        "\n",
        "In the Gregorian calendar, three criteria must be checked to identify leap years:\n",
        "\n",
        "The given year must be evenly divisible by 4;\n",
        "If the year can also be evenly divided by 100, it is NOT a leap year; unless:\n",
        "The year is also evenly divisible by 400. Then it is a leap year.\n"
      ]
    },
    {
      "cell_type": "code",
      "execution_count": 13,
      "metadata": {
        "colab": {
          "base_uri": "https://localhost:8080/"
        },
        "id": "ZesPT-vYGtha",
        "outputId": "a6566f3f-0952-4699-b45c-849487b95358"
      },
      "outputs": [
        {
          "name": "stdout",
          "output_type": "stream",
          "text": [
            "Enter a year: 2000\n",
            "2000 is a leap year.\n"
          ]
        }
      ],
      "source": [
        "def main():\n",
        "    try:\n",
        "        # Ask the user for a year\n",
        "        year = int(input(\"Enter a year: \"))\n",
        "\n",
        "        # Check if the year is a leap year\n",
        "        if (year % 4 == 0 and year % 100 != 0) or (year % 400 == 0):\n",
        "            print(f\"{year} is a leap year.\")\n",
        "        else:\n",
        "            print(f\"{year} is not a leap year.\")\n",
        "\n",
        "    except ValueError:\n",
        "        print(\"Invalid input! Please enter a valid year as a number.\")\n",
        "\n",
        "# Run the main function\n",
        "if __name__ == \"__main__\":\n",
        "    main()\n"
      ]
    },
    {
      "cell_type": "markdown",
      "metadata": {
        "id": "by4hF0zcG0yp"
      },
      "source": [
        "***04_tall_enough_to_ride***\n",
        "\n",
        "Write a program which asks the user how tall they are and prints whether or not they're taller than a pre-specified minimum height.\n",
        "\n",
        "In amusement parks (ah, the good old pre-pandemic days...), rollercoasters frequently have minimum height requirements for safety reasons. Assume for now that the minimum height is 50 of whatever height unit you'd like"
      ]
    },
    {
      "cell_type": "code",
      "execution_count": 15,
      "metadata": {
        "colab": {
          "base_uri": "https://localhost:8080/"
        },
        "id": "pVF7wMwrIyO8",
        "outputId": "f788410b-77d7-4ab3-b657-6a39d2cc10f0"
      },
      "outputs": [
        {
          "name": "stdout",
          "output_type": "stream",
          "text": [
            "Enter your height: 100\n",
            "You're tall enough to ride!\n"
          ]
        }
      ],
      "source": [
        "def main():\n",
        "    MIN_HEIGHT = 50  # Minimum height required\n",
        "\n",
        "    try:\n",
        "        # Ask the user for their height\n",
        "        height = float(input(\"Enter your height: \"))\n",
        "\n",
        "        # Compare with the minimum height\n",
        "        if height >= MIN_HEIGHT:\n",
        "            print(\"You're tall enough to ride!\")\n",
        "        else:\n",
        "            print(\"Sorry, you're not tall enough to ride.\")\n",
        "\n",
        "    except ValueError:\n",
        "        print(\"Invalid input! Please enter a numeric value for height.\")\n",
        "\n",
        "# Run the main function\n",
        "if __name__ == \"__main__\":\n",
        "    main()\n"
      ]
    },
    {
      "cell_type": "markdown",
      "metadata": {
        "id": "1Y1t7Fd7JxO_"
      },
      "source": [
        "***05_random_numbers***\n",
        "\n",
        "Print 10 random numbers in the range 1 to 100.\n",
        "\n",
        "Here is an example run:\n",
        "\n",
        "45 79 61 47 52 10 16 83 19 12\n",
        "\n",
        "Each time you run your program you should get different numbers\n",
        "\n",
        "81 76 70 1 27 63 96 100 32 92\n",
        "\n",
        "Recall that the python random library has a function randint which returns an integer in the range set by the parameters (inclusive). For example this call would produce a random integer between 1 and 6, which could include 1 and could include 6:\n",
        "\n",
        "value = random.randint(1, 6)"
      ]
    },
    {
      "cell_type": "code",
      "execution_count": 2,
      "metadata": {
        "colab": {
          "base_uri": "https://localhost:8080/"
        },
        "id": "JVASEDi3J6qO",
        "outputId": "cc8c07e3-842f-4714-df21-baf22c2980a7"
      },
      "outputs": [
        {
          "name": "stdout",
          "output_type": "stream",
          "text": [
            "33 25 49 27 93 3 40 78 96 33 "
          ]
        }
      ],
      "source": [
        "import random\n",
        "\n",
        "# Constants\n",
        "N_NUMBERS: int = 10\n",
        "MIN_VALUE: int = 1\n",
        "MAX_VALUE: int = 100\n",
        "\n",
        "def main():\n",
        "    # Generate and print N_NUMBERS random integers between MIN_VALUE and MAX_VALUE\n",
        "    for _ in range(N_NUMBERS):\n",
        "        value = random.randint(MIN_VALUE, MAX_VALUE)\n",
        "        print(value, end=' ')\n",
        "\n",
        "if __name__ == \"__main__\":\n",
        "    main()\n"
      ]
    }
  ],
  "metadata": {
    "colab": {
      "provenance": []
    },
    "kernelspec": {
      "display_name": "Python 3",
      "name": "python3"
    },
    "language_info": {
      "codemirror_mode": {
        "name": "ipython",
        "version": 3
      },
      "file_extension": ".py",
      "mimetype": "text/x-python",
      "name": "python",
      "nbconvert_exporter": "python",
      "pygments_lexer": "ipython3",
      "version": "3.13.2"
    }
  },
  "nbformat": 4,
  "nbformat_minor": 0
}
