{
  "cells": [
    {
      "cell_type": "markdown",
      "metadata": {
        "id": "Ej5kE9BFNxZd"
      },
      "source": [
        "***00_count_nums***\n",
        "\n",
        "This program counts the number of times each number appears in a list. It uses a dictionary to keep track of the information.\n",
        "\n",
        "An example run of the program looks like this (user input is in blue):\n",
        "\n",
        "Enter a number: 3 Enter a number: 4 Enter a number: 3 Enter a number: 6 Enter a number: 4 Enter a number: 3 Enter a number: 12 Enter a number: 3 appears 3 times. 4 appears 2 times. 6 appears 1 times. 12 appears 1 times."
      ]
    },
    {
      "cell_type": "code",
      "execution_count": 2,
      "metadata": {
        "colab": {
          "base_uri": "https://localhost:8080/"
        },
        "id": "1rKWGjMoNwc9",
        "outputId": "8ae2302e-3bc5-439f-b1b0-23af3541ad0d"
      },
      "outputs": [
        {
          "name": "stdout",
          "output_type": "stream",
          "text": [
            "Enter numbers one by one. Type 'done' when you're finished.\n",
            "\n",
            "Enter a number: 2\n",
            "Enter a number: 3\n",
            "Enter a number: 4\n",
            "Enter a number: 5\n",
            "Enter a number: 2\n",
            "Enter a number: 3\n",
            "Enter a number: done\n",
            "\n",
            "Here are the number frequencies:\n",
            "2 appears 2 times.\n",
            "3 appears 2 times.\n",
            "4 appears 1 times.\n",
            "5 appears 1 times.\n"
          ]
        }
      ],
      "source": [
        "def main():\n",
        "    number_counts = {}  # Dictionary to store number counts\n",
        "\n",
        "    print(\"Enter numbers one by one. Type 'done' when you're finished.\\n\")\n",
        "\n",
        "    while True:\n",
        "        user_input = input(\"Enter a number: \")\n",
        "\n",
        "        if user_input.lower() == 'done':\n",
        "            break\n",
        "\n",
        "        try:\n",
        "            number = int(user_input)\n",
        "\n",
        "            # If number is already in the dictionary, increment its count\n",
        "            if number in number_counts:\n",
        "                number_counts[number] += 1\n",
        "            else:\n",
        "                number_counts[number] = 1  # first time seeing this number\n",
        "\n",
        "        except ValueError:\n",
        "            print(\"Invalid input. Please enter a number or type 'done' to finish.\")\n",
        "\n",
        "    # Print results\n",
        "    print(\"\\nHere are the number frequencies:\")\n",
        "    for number, count in number_counts.items():\n",
        "        print(f\"{number} appears {count} times.\")\n",
        "\n",
        "# Run the program\n",
        "if __name__ == \"__main__\":\n",
        "    main()\n"
      ]
    },
    {
      "cell_type": "markdown",
      "metadata": {
        "id": "gyM3xfp5Vatb"
      },
      "source": [
        "***01_phonebook***\n",
        "\n",
        "In this program we show an example of using dictionaries to keep track of information in a phonebook.\n",
        "\n"
      ]
    },
    {
      "cell_type": "code",
      "execution_count": 4,
      "metadata": {
        "colab": {
          "base_uri": "https://localhost:8080/"
        },
        "id": "VZjufLFpWmL8",
        "outputId": "032e9bf9-8999-47ff-d33f-79d3d7aaf4d4"
      },
      "outputs": [
        {
          "name": "stdout",
          "output_type": "stream",
          "text": [
            "Enter contact name: Hamdan\n",
            "Enter phone number: 12345678990\n",
            "Enter contact name: \n",
            "\n",
            "📒 Contact List:\n",
            "Hamdan: 12345678990\n",
            "\n",
            "🔍 Contact Lookup:\n",
            "Search name (or press Enter to quit): Hamdan\n",
            "Hamdan's number is 12345678990\n",
            "Search name (or press Enter to quit): \n"
          ]
        }
      ],
      "source": [
        "def collect_contacts():\n",
        "    \"\"\"\n",
        "    Collects contact names and numbers from the user and stores them in a dictionary.\n",
        "    \"\"\"\n",
        "    contacts = {}\n",
        "\n",
        "    while True:\n",
        "        person = input(\"Enter contact name: \")\n",
        "        if person == \"\":\n",
        "            break\n",
        "        phone = input(\"Enter phone number: \")\n",
        "        contacts[person] = phone\n",
        "\n",
        "    return contacts\n",
        "\n",
        "\n",
        "def display_contacts(contacts):\n",
        "    \"\"\"\n",
        "    Shows all saved contacts with their phone numbers.\n",
        "    \"\"\"\n",
        "    print(\"\\n📒 Contact List:\")\n",
        "    for person in contacts:\n",
        "        print(f\"{person}: {contacts[person]}\")\n",
        "\n",
        "\n",
        "def search_contact(contacts):\n",
        "    \"\"\"\n",
        "    Lets the user search for a contact's number by entering the name.\n",
        "    \"\"\"\n",
        "    print(\"\\n🔍 Contact Lookup:\")\n",
        "    while True:\n",
        "        query = input(\"Search name (or press Enter to quit): \")\n",
        "        if query == \"\":\n",
        "            break\n",
        "        if query in contacts:\n",
        "            print(f\"{query}'s number is {contacts[query]}\")\n",
        "        else:\n",
        "            print(f\"{query} was not found.\")\n",
        "\n",
        "\n",
        "def main():\n",
        "    contact_book = collect_contacts()\n",
        "    display_contacts(contact_book)\n",
        "    search_contact(contact_book)\n",
        "\n",
        "\n",
        "if __name__ == \"__main__\":\n",
        "    main()\n"
      ]
    },
    {
      "cell_type": "markdown",
      "metadata": {
        "id": "sbePf1XKXAY6"
      },
      "source": [
        "***02_pop_up_shop***\n",
        "\n",
        "There's a small fruit shop nearby your house that you like to buy from. Since you buy several fruit at a time, you want to keep track of how much the fruit will cost before you go. Luckily you wrote down what fruits were available and how much one of each fruit costs.\n",
        "\n",
        "Write a program that loops through a dictionary of fruits, prompting the user to see how many of each fruit they want to buy, and then prints out the total combined cost of all of the fruits."
      ]
    },
    {
      "cell_type": "code",
      "execution_count": 5,
      "metadata": {
        "colab": {
          "base_uri": "https://localhost:8080/"
        },
        "id": "B3baHKpVXZVn",
        "outputId": "e54a60bf-10da-46f3-b849-b5dc8b70ac04"
      },
      "outputs": [
        {
          "name": "stdout",
          "output_type": "stream",
          "text": [
            "\n",
            "🍎 Welcome to the Fruit Shop!\n",
            "How many apples do you want? (Rs. 30 each): 2\n",
            "How many bananas do you want? (Rs. 10 each): 12\n",
            "How many oranges do you want? (Rs. 25 each): 12\n",
            "How many mangos do you want? (Rs. 50 each): 4\n",
            "\n",
            "🧾 Your total bill is: Rs. 680\n"
          ]
        }
      ],
      "source": [
        "def get_total_cost(fruit_prices):\n",
        "    \"\"\"\n",
        "    Asks the user how many of each fruit they want to buy,\n",
        "    and calculates the total cost.\n",
        "    \"\"\"\n",
        "    total = 0\n",
        "\n",
        "    print(\"\\n🍎 Welcome to the Fruit Shop!\")\n",
        "    for fruit, price in fruit_prices.items():\n",
        "        try:\n",
        "            quantity = int(input(f\"How many {fruit}s do you want? (Rs. {price} each): \"))\n",
        "            total += price * quantity\n",
        "        except ValueError:\n",
        "            print(f\"Invalid input. Skipping {fruit}.\")\n",
        "\n",
        "    return total\n",
        "\n",
        "\n",
        "def main():\n",
        "    # Price list of fruits\n",
        "    fruits = {\n",
        "        \"apple\": 30,\n",
        "        \"banana\": 10,\n",
        "        \"orange\": 25,\n",
        "        \"mango\": 50\n",
        "    }\n",
        "\n",
        "    total_bill = get_total_cost(fruits)\n",
        "    print(f\"\\n🧾 Your total bill is: Rs. {total_bill}\")\n",
        "\n",
        "\n",
        "if __name__ == \"__main__\":\n",
        "    main()\n"
      ]
    },
    {
      "cell_type": "markdown",
      "metadata": {
        "id": "GqZAlu1HYqVo"
      },
      "source": [
        "***03_powerful_passwords***\n",
        "\n",
        "You want to be safe online and use different passwords for different websites. However, you are forgetful at times and want to make a program that can match which password belongs to which website without storing the actual password!\n",
        "\n",
        "This can be done via something called hashing. Hashing is when we take something and convert it into a different, unique identifier. This is done using a hash function. Luckily, there are several resources that can help us with this.\n",
        "\n",
        "For example, using a hash function called SHA256(...) something as simple as\n",
        "\n",
        "hello\n",
        "\n",
        "can be hashed into a much more complex\n",
        "\n",
        "2cf24dba5fb0a30e26e83b2ac5b9e29e1b161e5c1fa7425e73043362938b9824\n",
        "\n",
        "Fill out the login(...) function for a website that hashes their passwords. Login should return True if an email's stored password hash in stored_logins is the same as the hash of password_to_check.\n",
        "\n",
        "(Hint. You will need to use the provided hash_password(...) function. You don't necessarily need to know how it works, just know that hash_password(...) returns the hash for the password!)"
      ]
    },
    {
      "cell_type": "code",
      "execution_count": 1,
      "metadata": {
        "colab": {
          "base_uri": "https://localhost:8080/"
        },
        "id": "3qbQuN5XYzNW",
        "outputId": "22dfe1b8-4005-4338-dabe-83a18293e2ab"
      },
      "outputs": [
        {
          "name": "stdout",
          "output_type": "stream",
          "text": [
            "False\n",
            "True\n",
            "False\n",
            "True\n",
            "False\n",
            "True\n"
          ]
        }
      ],
      "source": [
        "from hashlib import sha256\n",
        "\n",
        "def verify_user(email: str, user_data: dict, entered_password: str) -> bool:\n",
        "    \"\"\"\n",
        "    Confirms if the hash of the entered password matches the stored hash\n",
        "    for the given email.\n",
        "    \"\"\"\n",
        "    hashed_input = encrypt_password(entered_password)\n",
        "    return user_data.get(email) == hashed_input\n",
        "\n",
        "\n",
        "def encrypt_password(password: str) -> str:\n",
        "    \"\"\"\n",
        "    Converts the plain password into a SHA256 hash.\n",
        "    \"\"\"\n",
        "    return sha256(password.encode()).hexdigest()\n",
        "\n",
        "\n",
        "def main():\n",
        "    # Saved user emails and corresponding hashed passwords\n",
        "    user_accounts = {\n",
        "        \"example@gmail.com\": \"5e884898da28047151d0e56f8dc6292773603d0d6aabbdd62a11ef721d1542d8\",\n",
        "        \"code_in_placer@cip.org\": \"973607a4ae7b4cf7d96a100b0fb07e8519cc4f70441d41214a9f811577bb06cc\",\n",
        "        \"student@stanford.edu\": \"882c6df720fd99f5eebb1581a1cf975625cea8a160283011c0b9512bb56c95fb\"\n",
        "    }\n",
        "\n",
        "    # Test cases\n",
        "    print(verify_user(\"example@gmail.com\", user_accounts, \"word\"))\n",
        "    print(verify_user(\"example@gmail.com\", user_accounts, \"password\"))\n",
        "\n",
        "    print(verify_user(\"code_in_placer@cip.org\", user_accounts, \"Karel\"))\n",
        "    print(verify_user(\"code_in_placer@cip.org\", user_accounts, \"karel\"))\n",
        "\n",
        "    print(verify_user(\"student@stanford.edu\", user_accounts, \"password\"))\n",
        "    print(verify_user(\"student@stanford.edu\", user_accounts, \"123!456?789\"))\n",
        "\n",
        "\n",
        "if __name__ == \"__main__\":\n",
        "    main()\n"
      ]
    }
  ],
  "metadata": {
    "colab": {
      "provenance": []
    },
    "kernelspec": {
      "display_name": "Python 3",
      "name": "python3"
    },
    "language_info": {
      "codemirror_mode": {
        "name": "ipython",
        "version": 3
      },
      "file_extension": ".py",
      "mimetype": "text/x-python",
      "name": "python",
      "nbconvert_exporter": "python",
      "pygments_lexer": "ipython3",
      "version": "3.13.2"
    }
  },
  "nbformat": 4,
  "nbformat_minor": 0
}
