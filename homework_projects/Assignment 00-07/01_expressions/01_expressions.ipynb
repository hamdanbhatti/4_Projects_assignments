{
  "cells": [
    {
      "cell_type": "markdown",
      "metadata": {
        "id": "23d2un_F5zNr"
      },
      "source": [
        "***01_dicesimulator***\n",
        "\n",
        "Simulate rolling two dice, three times. Prints the results of each die roll. This program is used to show how variable scope works.\n",
        "\n"
      ]
    },
    {
      "cell_type": "code",
      "execution_count": 1,
      "metadata": {
        "colab": {
          "base_uri": "https://localhost:8080/"
        },
        "id": "MLfq2GDB58ax",
        "outputId": "30fa5de3-721d-43f8-d626-465d96549dfc"
      },
      "outputs": [
        {
          "name": "stdout",
          "output_type": "stream",
          "text": [
            "die1 in main() starts as:  16\n",
            "Total of two dies:  10\n",
            "Total of two dies:  5\n",
            "Total of two dies:  11\n",
            "die1 in main() ends as:  16\n"
          ]
        }
      ],
      "source": [
        "import random\n",
        "\n",
        "# Number of sides on each die to roll\n",
        "sides_count = 6\n",
        "\n",
        "def roll_dice():\n",
        "\n",
        "    die1:int = random.randint(1,sides_count)\n",
        "    die2:int = random.randint(1,sides_count)\n",
        "    total:int = die1 + die2\n",
        "    print(\"Total of two dies: \",total)\n",
        "\n",
        "def main():\n",
        "    die1:int = 16\n",
        "    print(\"die1 in main() starts as: \",str(die1))\n",
        "    roll_dice()\n",
        "    roll_dice()\n",
        "    roll_dice()\n",
        "    print(\"die1 in main() ends as: \",str(die1))\n",
        "\n",
        "if __name__ == \"__main__\":\n",
        "    main()"
      ]
    },
    {
      "cell_type": "markdown",
      "metadata": {
        "id": "o7g34trR8Wc1"
      },
      "source": [
        "Local Scope: die1 inside roll_dice() only exists in roll_dice(). It does not affect die1 in main().\n",
        "\n",
        "Global Scope: NUM_SIDES is a global variable, so it can be used inside any function.\n",
        "\n",
        "Function Isolation: Changes in roll_dice() do not affect main(), and vice versa."
      ]
    },
    {
      "cell_type": "markdown",
      "metadata": {
        "id": "2hsZcrq78llV"
      },
      "source": [
        "----------------------------------------------------------------------"
      ]
    },
    {
      "cell_type": "markdown",
      "metadata": {
        "id": "Oc-q2fFE8pMe"
      },
      "source": [
        "***02_e=mc2***\n",
        "\n",
        "Write a program that continually reads in mass from the user and then outputs the equivalent energy using Einstein's mass-energy equivalence formula (E stands for energy, m stands for mass, and C is the speed of light:\n",
        "\n",
        "E = m * c**2"
      ]
    },
    {
      "cell_type": "code",
      "execution_count": 2,
      "metadata": {
        "colab": {
          "base_uri": "https://localhost:8080/"
        },
        "id": "lb0tjt-I8Ycr",
        "outputId": "ebce8eaf-6751-43ab-b2c3-489f47860c42"
      },
      "outputs": [
        {
          "name": "stdout",
          "output_type": "stream",
          "text": [
            "Energy in joules:  1.7975103574736352e+17\n"
          ]
        }
      ],
      "source": [
        "SPEED_OF_LIGHT = 299_792_458  # m/s\n",
        "\n",
        "def main():\n",
        "    mass_in_kg = float(input(\"Enter mass in kg: \"))\n",
        "    energy_in_joules = mass_in_kg * SPEED_OF_LIGHT**2\n",
        "\n",
        "    print(\"Energy in joules: \",str(energy_in_joules))\n",
        "\n",
        "if __name__ == \"__main__\":\n",
        "    main()"
      ]
    },
    {
      "cell_type": "markdown",
      "metadata": {},
      "source": [
        "------------------------------------------------------------------"
      ]
    },
    {
      "cell_type": "markdown",
      "metadata": {
        "id": "MXm7jny2E6IE"
      },
      "source": [
        "***03_feet_to_inches***\n",
        "\n",
        "Converts feet to inches. Feet is an American unit of measurement. There are 12 inches per foot. Foot is the singular, and feet is the plural.\n",
        "\n"
      ]
    },
    {
      "cell_type": "code",
      "execution_count": 14,
      "metadata": {
        "colab": {
          "base_uri": "https://localhost:8080/"
        },
        "id": "5YuNuxe7E_Cm",
        "outputId": "b1beb014-cd7b-4bbc-bd9f-2d0a77a4f600"
      },
      "outputs": [
        {
          "name": "stdout",
          "output_type": "stream",
          "text": [
            "Enter feet to calculate inches: 24\n",
            "Inches:  288.0\n"
          ]
        }
      ],
      "source": [
        "INCHES_PER_FOOT = 12 # There are 12 inches for 1 foot.\n",
        "\n",
        "def main():\n",
        "    feet:float = float(input(\"Enter feet to calculate inches: \"))\n",
        "    inches:float = feet * INCHES_PER_FOOT\n",
        "    print(\"Inches: \",str(inches))\n",
        "\n",
        "if __name__ == \"__main__\":\n",
        "    main()"
      ]
    },
    {
      "cell_type": "markdown",
      "metadata": {},
      "source": [
        "------------------------------------------------------------------"
      ]
    },
    {
      "cell_type": "markdown",
      "metadata": {
        "id": "Khq2ii2PQrrz"
      },
      "source": [
        "***04_pythagorean_theorem***\n",
        "\n",
        "Write a program that asks the user for the lengths of the two perpendicular sides of a right triangle and outputs the length of the third side (the hypotenuse) using the Pythagorean theorem!\n",
        "\n",
        "For instance, let's consider a right triangle ABC, with the right angle located at C. According to the Pythagorean theorem:\n",
        "\n",
        "BC ** 2 = AB ** 2 + AC ** 2"
      ]
    },
    {
      "cell_type": "code",
      "execution_count": 15,
      "metadata": {
        "colab": {
          "base_uri": "https://localhost:8080/"
        },
        "id": "sSNwSUFFQ21D",
        "outputId": "d346c57d-009d-4226-87a5-0e7fb429038c"
      },
      "outputs": [
        {
          "name": "stdout",
          "output_type": "stream",
          "text": [
            "Enter length of side AB: 24\n",
            "Enter length of side AC: 24\n",
            "Length of side BC:  33.94112549695428\n"
          ]
        }
      ],
      "source": [
        "import math\n",
        "\n",
        "def main():\n",
        "    # Get the two side lengths\n",
        "    side_ab:float = float(input(\"Enter length of side AB: \"))\n",
        "    side_ac:float = float(input(\"Enter length of side AC: \"))\n",
        "    # Calculate the hypotenuse using the two sides and print it out\n",
        "    side_bc:float = math.sqrt(side_ab**2 + side_ac**2)\n",
        "    print(\"Length of side BC: \",str(side_bc))\n",
        "\n",
        "if __name__ == \"__main__\":\n",
        "    main()"
      ]
    },
    {
      "cell_type": "markdown",
      "metadata": {},
      "source": [
        "------------------------------------------------------------------"
      ]
    },
    {
      "cell_type": "markdown",
      "metadata": {
        "id": "ySgF9jASR0BU"
      },
      "source": [
        "***05_remainder_division***\n",
        "\n",
        "Ask the user for two numbers, one at a time, and then print the result of dividing the first number by the second and also the remainder of the division.\n",
        "\n"
      ]
    },
    {
      "cell_type": "code",
      "execution_count": 19,
      "metadata": {
        "colab": {
          "base_uri": "https://localhost:8080/"
        },
        "id": "8YsO0rfjSQRW",
        "outputId": "b8a0a431-7329-4dd8-88fa-7054c40d17b4"
      },
      "outputs": [
        {
          "name": "stdout",
          "output_type": "stream",
          "text": [
            "Enter the first number (dividend): 10\n",
            "Enter the second number (divisor): 3\n",
            "Quotient: 3\n",
            "Remainder: 1\n"
          ]
        }
      ],
      "source": [
        "\"\"\"\n",
        "Program: Division and Remainder Calculator\n",
        "------------------------------------------\n",
        "\n",
        "Formula:\n",
        "    quotient = dividend // divisor\n",
        "    remainder = dividend % divisor\n",
        "\"\"\"\n",
        "\n",
        "def divide_numbers(dividend: int, divisor: int):\n",
        "\n",
        "    quotient:int = dividend // divisor\n",
        "    remainder:int = dividend % divisor\n",
        "    print(f\"Quotient: {quotient}\")\n",
        "    print(f\"Remainder: {remainder}\")\n",
        "\n",
        "def main():\n",
        "    \"\"\"\n",
        "    Asks the user for two numbers and performs division.\n",
        "    Handles invalid input and prevents division by zero.\n",
        "    \"\"\"\n",
        "    try:\n",
        "\n",
        "        dividend = int(input(\"Enter the first number (dividend): \"))\n",
        "        divisor = int(input(\"Enter the second number (divisor): \"))\n",
        "\n",
        "\n",
        "        if divisor == 0:\n",
        "            print(\"Error! Division by zero is not allowed.\")\n",
        "            return\n",
        "\n",
        "        divide_numbers(dividend, divisor)\n",
        "\n",
        "    except ValueError:\n",
        "        print(\"Invalid input! Please enter whole numbers.\")\n",
        "\n",
        "\n",
        "if __name__ == \"__main__\":\n",
        "    main()\n"
      ]
    },
    {
      "cell_type": "markdown",
      "metadata": {},
      "source": [
        "------------------------------------------------------------------"
      ]
    },
    {
      "cell_type": "markdown",
      "metadata": {
        "id": "pZUYLzRGU2v7"
      },
      "source": [
        "***06_rolldice***\n",
        "\n",
        "Simulate rolling two dice, and prints results of each roll as well as the total.\n",
        "\n"
      ]
    },
    {
      "cell_type": "code",
      "execution_count": 35,
      "metadata": {
        "colab": {
          "base_uri": "https://localhost:8080/"
        },
        "id": "S_kbdmZCaQql",
        "outputId": "80af4bb0-c513-433b-ac39-66150cc27b7e"
      },
      "outputs": [
        {
          "name": "stdout",
          "output_type": "stream",
          "text": [
            "🎲 Die 1: 5, 🎲 Die 2: 1\n",
            "Total: 6\n"
          ]
        }
      ],
      "source": [
        "import random\n",
        "\n",
        "def roll_dice():\n",
        "    die1 = random.randint(1, 6)  # Roll first die (1-6)\n",
        "    die2 = random.randint(1, 6)  # Roll second die (1-6)\n",
        "    total = die1 + die2  # Sum of both dice\n",
        "\n",
        "    print(f\"🎲 Die 1: {die1}, 🎲 Die 2: {die2}\")\n",
        "    print(f\"Total: {total}\")\n",
        "\n",
        "def main():\n",
        "    random.seed(10)  # Ensures the same random results every time\n",
        "    roll_dice()  # Call the function to roll the dice\n",
        "\n",
        "# Call the main function\n",
        "if __name__ == \"__main__\":\n",
        "    main()\n"
      ]
    },
    {
      "cell_type": "markdown",
      "metadata": {},
      "source": [
        "------------------------------------------------------------------"
      ]
    },
    {
      "cell_type": "markdown",
      "metadata": {
        "id": "gKYCF4rabv0F"
      },
      "source": [
        "***06_seconds_in_year***\n",
        "\n",
        "Use Python to calculate the number of seconds in a year, and tell the user what the result is in a nice print statement that looks like this (of course the value 5 should be the calculated number instead):\n",
        "\n",
        "There are 5 seconds in a year!\n",
        "\n",
        "You should use constants for this exercise -- there are 365 days in a year, 24 hours in a day, 60 minutes in an hour, and 60 seconds per minute.\n",
        "\n"
      ]
    },
    {
      "cell_type": "code",
      "execution_count": 38,
      "metadata": {
        "colab": {
          "base_uri": "https://localhost:8080/"
        },
        "id": "qG4fxtxbb2DH",
        "outputId": "8c1be99b-5164-4344-fda7-ca23743809d6"
      },
      "outputs": [
        {
          "name": "stdout",
          "output_type": "stream",
          "text": [
            "There are 31536000 seconds in a year!\n"
          ]
        }
      ],
      "source": [
        "# Constants\n",
        "DAYS_IN_YEAR = 365\n",
        "HOURS_IN_DAY = 24\n",
        "MINUTES_IN_HOUR = 60\n",
        "SECONDS_IN_MINUTE = 60\n",
        "\n",
        "# Calculate seconds in a year\n",
        "seconds_in_year = DAYS_IN_YEAR * HOURS_IN_DAY * MINUTES_IN_HOUR * SECONDS_IN_MINUTE\n",
        "\n",
        "# Print the result\n",
        "print(f\"There are {seconds_in_year} seconds in a year!\")\n"
      ]
    },
    {
      "cell_type": "markdown",
      "metadata": {},
      "source": [
        "------------------------------------------------------------------"
      ]
    },
    {
      "cell_type": "markdown",
      "metadata": {
        "id": "-FPtNn7CmVP1"
      },
      "source": [
        "***07_tiny_mad_lib***\n",
        "\n",
        "Write a program which prompts the user for an adjective, then a noun, then a verb, and then prints a fun sentence with those words!\n",
        "\n",
        "Mad Libs is a word game where players are prompted for one word at a time, and the words are eventually filled into the blanks of a word template to make an entertaining story!"
      ]
    },
    {
      "cell_type": "code",
      "execution_count": 40,
      "metadata": {
        "colab": {
          "base_uri": "https://localhost:8080/"
        },
        "id": "Z-sOJ2RnmaNw",
        "outputId": "a3e9a729-29a9-4c0e-8ed9-d177281dd1fa"
      },
      "outputs": [
        {
          "name": "stdout",
          "output_type": "stream",
          "text": [
            "Enter an adjective: Cute❤\n",
            "Enter a noun: Cat\n",
            "Enter a verb: play\n",
            "The Cute❤ Cat loves to play all day long!\n"
          ]
        }
      ],
      "source": [
        "def main():\n",
        "   # Get user input\n",
        "   adjective = input(\"Enter an adjective: \")\n",
        "   noun = input(\"Enter a noun: \")\n",
        "   verb =  input(\"Enter a verb: \")\n",
        "\n",
        "   print(f\"The {adjective} {noun} loves to {verb} all day long!\")\n",
        "\n",
        "# Run the main Function\n",
        "if __name__ == \"__main__\":\n",
        "    main()\n",
        "\n"
      ]
    },
    {
      "cell_type": "markdown",
      "metadata": {},
      "source": [
        "------------------------------------------------------------------"
      ]
    }
  ],
  "metadata": {
    "colab": {
      "provenance": []
    },
    "kernelspec": {
      "display_name": "Python 3",
      "name": "python3"
    },
    "language_info": {
      "codemirror_mode": {
        "name": "ipython",
        "version": 3
      },
      "file_extension": ".py",
      "mimetype": "text/x-python",
      "name": "python",
      "nbconvert_exporter": "python",
      "pygments_lexer": "ipython3",
      "version": "3.13.2"
    }
  },
  "nbformat": 4,
  "nbformat_minor": 0
}
